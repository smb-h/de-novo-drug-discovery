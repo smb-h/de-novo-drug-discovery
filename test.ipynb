{
 "cells": [
  {
   "cell_type": "code",
   "execution_count": 1,
   "metadata": {},
   "outputs": [],
   "source": [
    "import pandas as pd\n",
    "import numpy as np\n"
   ]
  },
  {
   "cell_type": "code",
   "execution_count": 2,
   "metadata": {},
   "outputs": [
    {
     "data": {
      "text/plain": [
       "['C1CCCCCNc2cc[n+](Cc3cccc(c3)c4cccc(C[n+]5ccc(NCCCC1)c6ccccc56)c4)c7ccccc27\\n',\n",
       " 'Br\\\\C=C\\\\1/CCC(C(=O)O1)c2cccc3ccccc23\\n',\n",
       " 'I\\\\C=C\\\\1/CCC(C(=O)O1)c2cccc3ccccc23\\n',\n",
       " 'O=C1O\\\\C(=C\\\\C#C)\\\\CCC1c2cccc3ccccc23\\n',\n",
       " 'I\\\\C=C/1\\\\CCC(C(=O)O1)c2cccc3ccccc23\\n']"
      ]
     },
     "execution_count": 2,
     "metadata": {},
     "output_type": "execute_result"
    }
   ],
   "source": [
    "with open('./data/dataset_sampled.smi') as fl:\n",
    "    dataset_sampled = fl.readlines()\n",
    "dataset_sampled[:5]\n"
   ]
  },
  {
   "cell_type": "code",
   "execution_count": 3,
   "metadata": {},
   "outputs": [
    {
     "data": {
      "text/plain": [
       "{'experiment_name': 'test',\n",
       " 'data_filename': './datasets/dataset_cleansed.smi',\n",
       " 'data_length': 0,\n",
       " 'units': 256,\n",
       " 'num_epochs': 22,\n",
       " 'optimizer': 'adam',\n",
       " 'seed': 71,\n",
       " 'batch_size': 256,\n",
       " 'validation_split': 0.1,\n",
       " 'verbose_training': True,\n",
       " 'checkpoint_monitor': 'val_loss',\n",
       " 'checkpoint_mode': 'min',\n",
       " 'checkpoint_save_best_only': False,\n",
       " 'checkpoint_save_weights_only': True,\n",
       " 'checkpoint_verbose': 1,\n",
       " 'tensorboard_write_graph': True,\n",
       " 'sampling_temp': 0.75,\n",
       " 'smiles_max_length': 128,\n",
       " 'finetune_epochs': 12,\n",
       " 'finetune_batch_size': 1,\n",
       " 'finetune_data_filename': './datasets/TRPM8_inhibitors_for_fine-tune.smi',\n",
       " 'config_path': './config/config.json',\n",
       " 'experiment_dir': 'experiments/2022-10-14/test',\n",
       " 'tensorboard_log_dir': 'experiments/2022-10-14/test/logs/',\n",
       " 'checkpoint_dir': 'experiments/2022-10-14/test/checkpoints/'}"
      ]
     },
     "execution_count": 3,
     "metadata": {},
     "output_type": "execute_result"
    }
   ],
   "source": [
    "CONFIG_PATH = './config/config.json'\n",
    "from preprocessing.utils import process_config\n",
    "config = process_config(CONFIG_PATH)\n",
    "config\n"
   ]
  },
  {
   "cell_type": "code",
   "execution_count": 4,
   "metadata": {},
   "outputs": [],
   "source": [
    "# from preprocessing.lstm_paper import DataLoader\n",
    "# x = DataLoader(CONFIG_PATH, data_type='train')\n"
   ]
  }
 ],
 "metadata": {
  "kernelspec": {
   "display_name": "Python 3.10.7 ('lab')",
   "language": "python",
   "name": "python3"
  },
  "language_info": {
   "codemirror_mode": {
    "name": "ipython",
    "version": 3
   },
   "file_extension": ".py",
   "mimetype": "text/x-python",
   "name": "python",
   "nbconvert_exporter": "python",
   "pygments_lexer": "ipython3",
   "version": "3.10.7"
  },
  "orig_nbformat": 4,
  "vscode": {
   "interpreter": {
    "hash": "ea695249be8fc7b3de8f0f2969285e7ca88f959b482f74707aac0112d09de4f5"
   }
  }
 },
 "nbformat": 4,
 "nbformat_minor": 2
}
