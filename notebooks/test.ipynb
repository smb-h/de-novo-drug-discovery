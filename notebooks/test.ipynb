{
 "cells": [
  {
   "cell_type": "code",
   "execution_count": 17,
   "metadata": {},
   "outputs": [],
   "source": [
    "import pandas as pd\n",
    "import numpy as np\n",
    "import os\n"
   ]
  },
  {
   "cell_type": "code",
   "execution_count": 18,
   "metadata": {},
   "outputs": [
    {
     "data": {
      "text/plain": [
       "['C1CCCCCNc2cc[n+](Cc3cccc(c3)c4cccc(C[n+]5ccc(NCCCC1)c6ccccc56)c4)c7ccccc27\\n',\n",
       " 'Br\\\\C=C\\\\1/CCC(C(=O)O1)c2cccc3ccccc23\\n',\n",
       " 'I\\\\C=C\\\\1/CCC(C(=O)O1)c2cccc3ccccc23\\n',\n",
       " 'O=C1O\\\\C(=C\\\\C#C)\\\\CCC1c2cccc3ccccc23\\n',\n",
       " 'I\\\\C=C/1\\\\CCC(C(=O)O1)c2cccc3ccccc23\\n']"
      ]
     },
     "execution_count": 18,
     "metadata": {},
     "output_type": "execute_result"
    }
   ],
   "source": [
    "with open('../data/raw/dataset_sampled.smi') as fl:\n",
    "    dataset_sampled = fl.readlines()\n",
    "dataset_sampled[:5]\n"
   ]
  },
  {
   "cell_type": "code",
   "execution_count": null,
   "metadata": {},
   "outputs": [],
   "source": []
  }
 ],
 "metadata": {
  "kernelspec": {
   "display_name": "Python 3.10.7 ('drug_discovery')",
   "language": "python",
   "name": "python3"
  },
  "language_info": {
   "codemirror_mode": {
    "name": "ipython",
    "version": 3
   },
   "file_extension": ".py",
   "mimetype": "text/x-python",
   "name": "python",
   "nbconvert_exporter": "python",
   "pygments_lexer": "ipython3",
   "version": "3.10.7"
  },
  "orig_nbformat": 4,
  "vscode": {
   "interpreter": {
    "hash": "53fed40703b6c09cebfe81e1ed5c1c79add52b4229396e44a1c31ba61295715d"
   }
  }
 },
 "nbformat": 4,
 "nbformat_minor": 2
}
