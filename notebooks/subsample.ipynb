{
 "cells": [
  {
   "cell_type": "code",
   "execution_count": 6,
   "metadata": {},
   "outputs": [],
   "source": [
    "import os\n",
    "import numpy as np\n"
   ]
  },
  {
   "cell_type": "code",
   "execution_count": 12,
   "metadata": {},
   "outputs": [
    {
     "name": "stdout",
     "output_type": "stream",
     "text": [
      "1000\n"
     ]
    },
    {
     "data": {
      "text/plain": [
       "['CN1CC23CN(C)CC2(C1)CN(C(=O)CC1CCc2ccccc21)C3',\n",
       " 'O=S(=O)(c1cccnc1)N1CC2CCC(C1)N(Cc1ccccc1)C2',\n",
       " 'Cc1ccc2ncccc2c1CN1CC2C(=O)N(C)C(=O)C2C1',\n",
       " 'Cc1cccc(CN2CC3CCC2CN(Cc2cccnc2)C3)n1']"
      ]
     },
     "execution_count": 12,
     "metadata": {},
     "output_type": "execute_result"
    }
   ],
   "source": [
    "with open(\"../data/processed/dataset.smi\") as f:\n",
    "    smiles = [s.split(\"\\t\")[0].rstrip() for s in f]\n",
    "print(len(smiles))\n",
    "smiles[:4]\n"
   ]
  },
  {
   "cell_type": "code",
   "execution_count": 8,
   "metadata": {},
   "outputs": [],
   "source": [
    "# pick 1000 smiles randomly with seed\n",
    "smiles = np.random.RandomState(seed=42).choice(smiles, size=1000, replace=False)\n",
    "# write on disk\n",
    "with open(\"../data/processed/sampled.smi\", \"w\") as f:\n",
    "    for s in smiles:\n",
    "        f.write(s + \"\\n\")\n"
   ]
  }
 ],
 "metadata": {
  "kernelspec": {
   "display_name": "Python 3.10.8 ('drug_design')",
   "language": "python",
   "name": "python3"
  },
  "language_info": {
   "codemirror_mode": {
    "name": "ipython",
    "version": 3
   },
   "file_extension": ".py",
   "mimetype": "text/x-python",
   "name": "python",
   "nbconvert_exporter": "python",
   "pygments_lexer": "ipython3",
   "version": "3.10.8"
  },
  "orig_nbformat": 4,
  "vscode": {
   "interpreter": {
    "hash": "df575d9b3e9895d2442e3df5b270c02c77977dbbc9d135026610c4079aa2b2a6"
   }
  }
 },
 "nbformat": 4,
 "nbformat_minor": 2
}
