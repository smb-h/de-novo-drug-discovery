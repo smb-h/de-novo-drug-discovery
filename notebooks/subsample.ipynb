{
 "cells": [
  {
   "cell_type": "code",
   "execution_count": 1,
   "metadata": {},
   "outputs": [],
   "source": [
    "import os\n",
    "import numpy as np"
   ]
  },
  {
   "cell_type": "code",
   "execution_count": 2,
   "metadata": {},
   "outputs": [
    {
     "name": "stdout",
     "output_type": "stream",
     "text": [
      "782197\n"
     ]
    },
    {
     "data": {
      "text/plain": [
       "['N=c1nc2n(cc1F)[C@H]1O[C@H](CO)[C@@H](O)[C@H]1O2',\n",
       " 'Cc1cn([C@H]2C[C@@H](CO)N(O)C2)c(=O)[nH]c1=O',\n",
       " 'CC(=O)N[C@@H]1C[C@@H](O)[C@H](CO)O[C@@H]1O',\n",
       " 'Nc1ncc2c(ncn2COC(CO)CO)n1']"
      ]
     },
     "execution_count": 2,
     "metadata": {},
     "output_type": "execute_result"
    }
   ],
   "source": [
    "with open(\"../data/raw/dataset_isomeric_true.smi\") as f:\n",
    "    smiles = [s.split(\"\\t\")[0].rstrip() for s in f]\n",
    "print(len(smiles))\n",
    "smiles[:4]"
   ]
  },
  {
   "cell_type": "code",
   "execution_count": 3,
   "metadata": {},
   "outputs": [],
   "source": [
    "# pick 1000 smiles randomly with seed\n",
    "smiles = np.random.RandomState(seed=42).choice(smiles, size=5000, replace=False)\n",
    "# write on disk\n",
    "with open(\"../data/raw/sampled.smi\", \"w\") as f:\n",
    "    for s in smiles:\n",
    "        f.write(s + \"\\n\")"
   ]
  }
 ],
 "metadata": {
  "kernelspec": {
   "display_name": "drug_design",
   "language": "python",
   "name": "python3"
  },
  "language_info": {
   "codemirror_mode": {
    "name": "ipython",
    "version": 3
   },
   "file_extension": ".py",
   "mimetype": "text/x-python",
   "name": "python",
   "nbconvert_exporter": "python",
   "pygments_lexer": "ipython3",
   "version": "3.10.8 (main, Nov  1 2022, 14:18:21) [GCC 12.2.0]"
  },
  "orig_nbformat": 4,
  "vscode": {
   "interpreter": {
    "hash": "99ff11208b07db7873c937805433802699acf0b67206477a747d9874d01036f6"
   }
  }
 },
 "nbformat": 4,
 "nbformat_minor": 2
}
