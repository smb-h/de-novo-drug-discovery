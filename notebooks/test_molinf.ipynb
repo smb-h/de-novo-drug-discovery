{
 "cells": [
  {
   "cell_type": "code",
   "execution_count": 1,
   "metadata": {},
   "outputs": [
    {
     "name": "stderr",
     "output_type": "stream",
     "text": [
      "2022-12-19 21:52:22.632958: I tensorflow/core/platform/cpu_feature_guard.cc:193] This TensorFlow binary is optimized with oneAPI Deep Neural Network Library (oneDNN) to use the following CPU instructions in performance-critical operations:  AVX2 AVX512F AVX512_VNNI FMA\n",
      "To enable them in other operations, rebuild TensorFlow with the appropriate compiler flags.\n",
      "2022-12-19 21:52:22.939642: I tensorflow/core/util/util.cc:169] oneDNN custom operations are on. You may see slightly different numerical results due to floating-point round-off errors from different computation orders. To turn them off, set the environment variable `TF_ENABLE_ONEDNN_OPTS=0`.\n"
     ]
    }
   ],
   "source": [
    "import pandas as pd\n",
    "import numpy as np\n",
    "import os\n",
    "from copy import copy\n",
    "from tqdm import tqdm\n",
    "from glob import glob\n",
    "import numpy as np\n",
    "import tensorflow as tf\n",
    "import tensorflow_probability as tfp\n",
    "from tensorflow import keras\n",
    "\n",
    "from rdkit.Chem import MolStandardize, MolFromSmiles, MolToSmiles\n",
    "\n",
    "from tensorflow.keras import layers\n",
    "from tensorflow.keras.callbacks import ModelCheckpoint, TensorBoard\n",
    "from tensorflow.keras.models import Sequential\n",
    "from sklearn.model_selection import train_test_split\n",
    "from sklearn.metrics import accuracy_score\n"
   ]
  },
  {
   "cell_type": "code",
   "execution_count": 2,
   "metadata": {},
   "outputs": [
    {
     "data": {
      "text/plain": [
       "['C1CCCCCNc2cc[n+](Cc3cccc(c3)c4cccc(C[n+]5ccc(NCCCC1)c6ccccc56)c4)c7ccccc27',\n",
       " 'Br\\\\C=C\\\\1/CCC(C(=O)O1)c2cccc3ccccc23',\n",
       " 'I\\\\C=C\\\\1/CCC(C(=O)O1)c2cccc3ccccc23',\n",
       " 'O=C1O\\\\C(=C\\\\C#C)\\\\CCC1c2cccc3ccccc23']"
      ]
     },
     "execution_count": 2,
     "metadata": {},
     "output_type": "execute_result"
    }
   ],
   "source": [
    "with open(\"../data/raw/dataset_sampled.smi\") as f:\n",
    "    smiles = [s.split(\"\\t\")[0].rstrip() for s in f]\n",
    "smiles[:4]\n"
   ]
  },
  {
   "cell_type": "code",
   "execution_count": 3,
   "metadata": {},
   "outputs": [],
   "source": [
    "class SmilesTokenizer(object):\n",
    "    def __init__(self):\n",
    "        atoms = [\n",
    "            \"Al\",\n",
    "            \"As\",\n",
    "            \"B\",\n",
    "            \"Br\",\n",
    "            \"C\",\n",
    "            \"Cl\",\n",
    "            \"F\",\n",
    "            \"H\",\n",
    "            \"I\",\n",
    "            \"K\",\n",
    "            \"Li\",\n",
    "            \"N\",\n",
    "            \"Na\",\n",
    "            \"O\",\n",
    "            \"P\",\n",
    "            \"S\",\n",
    "            \"Se\",\n",
    "            \"Si\",\n",
    "            \"Te\",\n",
    "        ]\n",
    "        special = [\n",
    "            \"(\",\n",
    "            \")\",\n",
    "            \"[\",\n",
    "            \"]\",\n",
    "            \"=\",\n",
    "            \"#\",\n",
    "            \"%\",\n",
    "            \"0\",\n",
    "            \"1\",\n",
    "            \"2\",\n",
    "            \"3\",\n",
    "            \"4\",\n",
    "            \"5\",\n",
    "            \"6\",\n",
    "            \"7\",\n",
    "            \"8\",\n",
    "            \"9\",\n",
    "            \"+\",\n",
    "            \"-\",\n",
    "            \"se\",\n",
    "            \"te\",\n",
    "            \"c\",\n",
    "            \"n\",\n",
    "            \"o\",\n",
    "            \"s\",\n",
    "        ]\n",
    "        padding = [\"G\", \"A\", \"E\"]\n",
    "\n",
    "        self.table = sorted(atoms, key=len, reverse=True) + special + padding\n",
    "        table_len = len(self.table)\n",
    "\n",
    "        self.table_2_chars = list(filter(lambda x: len(x) == 2, self.table))\n",
    "        self.table_1_chars = list(filter(lambda x: len(x) == 1, self.table))\n",
    "\n",
    "        self.one_hot_dict = {}\n",
    "        for i, symbol in enumerate(self.table):\n",
    "            vec = np.zeros(table_len, dtype=np.float32)\n",
    "            vec[i] = 1\n",
    "            self.one_hot_dict[symbol] = vec\n",
    "\n",
    "    def tokenize(self, smiles):\n",
    "        smiles = smiles + \" \"\n",
    "        N = len(smiles)\n",
    "        token = []\n",
    "        i = 0\n",
    "        while i < N:\n",
    "            c1 = smiles[i]\n",
    "            c2 = smiles[i : i + 2]\n",
    "\n",
    "            if c2 in self.table_2_chars:\n",
    "                token.append(c2)\n",
    "                i += 2\n",
    "                continue\n",
    "\n",
    "            if c1 in self.table_1_chars:\n",
    "                token.append(c1)\n",
    "                i += 1\n",
    "                continue\n",
    "\n",
    "            i += 1\n",
    "\n",
    "        return token\n",
    "\n",
    "    def one_hot_encode(self, tokenized_smiles):\n",
    "        result = np.array(\n",
    "            [self.one_hot_dict[symbol] for symbol in tokenized_smiles], dtype=np.float32\n",
    "        )\n",
    "        result = result.reshape(1, result.shape[0], result.shape[1])\n",
    "        return result\n"
   ]
  },
  {
   "cell_type": "code",
   "execution_count": 4,
   "metadata": {},
   "outputs": [],
   "source": [
    "class Preprocessor(object):\n",
    "    def __init__(self):\n",
    "        self.normarizer = MolStandardize.normalize.Normalizer()\n",
    "        self.lfc = MolStandardize.fragment.LargestFragmentChooser()\n",
    "        self.uc = MolStandardize.charge.Uncharger()\n",
    "\n",
    "    def process(self, smi):\n",
    "        mol = MolFromSmiles(smi)\n",
    "        if mol:\n",
    "            mol = self.normarizer.normalize(mol)\n",
    "            mol = self.lfc.choose(mol)\n",
    "            mol = self.uc.uncharge(mol)\n",
    "            smi = MolToSmiles(mol, isomericSmiles=False, canonical=True)\n",
    "            return smi\n",
    "        else:\n",
    "            return None\n"
   ]
  },
  {
   "cell_type": "code",
   "execution_count": 5,
   "metadata": {},
   "outputs": [
    {
     "name": "stdout",
     "output_type": "stream",
     "text": [
      "input SMILES num: 1000\n",
      "start preprocessing...\n"
     ]
    },
    {
     "name": "stderr",
     "output_type": "stream",
     "text": [
      "100%|██████████| 1000/1000 [00:00<00:00, 1657.74it/s]\n",
      "100%|██████████| 976/976 [00:00<00:00, 58030.43it/s]"
     ]
    },
    {
     "name": "stdout",
     "output_type": "stream",
     "text": [
      "Error:  0\n",
      "Error Tokens:  []\n",
      "Max SMILES length: 74\n",
      "output SMILES num: 582\n"
     ]
    },
    {
     "name": "stderr",
     "output_type": "stream",
     "text": [
      "\n"
     ]
    }
   ],
   "source": [
    "pp = Preprocessor()\n",
    "\n",
    "print(f\"input SMILES num: {len(smiles)}\")\n",
    "print(\"start preprocessing...\")\n",
    "\n",
    "smiles = [pp.process(smi) for smi in tqdm(smiles)]\n",
    "smiles = list(set([s for s in smiles if s]))\n",
    "\n",
    "# token limits (34 to 74)\n",
    "st = SmilesTokenizer()\n",
    "smiles_tokenized = [st.tokenize(smi) for smi in tqdm(smiles)]\n",
    "smiles_processed = []\n",
    "smiles_max_len = 0\n",
    "\n",
    "\n",
    "# check for not recognized tokens\n",
    "err = 0\n",
    "err_tokens = []\n",
    "for i in range(len(smiles)):\n",
    "    if smiles[i] != \"\".join(smiles_tokenized[i]):\n",
    "        print(\"=====================================\")\n",
    "        print(len(smiles[i]), \" :\", smiles[i])\n",
    "        print(len(smiles_tokenized[i]), \" :\" ,smiles_tokenized[i])\n",
    "        for char in smiles[i]:\n",
    "            if char not in smiles_tokenized[i]:\n",
    "                err_tokens.append(char)\n",
    "        err += 1\n",
    "print(\"Error: \", err)\n",
    "print(\"Error Tokens: \", err_tokens)\n",
    "\n",
    "\n",
    "for tokenized in smiles_tokenized:\n",
    "    if 34 <= len(tokenized) <= 74:\n",
    "        smiles_processed.append(tokenized)\n",
    "        # update smiles max len\n",
    "        if len(tokenized) > smiles_max_len:\n",
    "            smiles_max_len = len(tokenized)\n",
    "\n",
    "print(f\"Max SMILES length: {smiles_max_len}\")\n",
    "print(f\"output SMILES num: {len(smiles_processed)}\")\n"
   ]
  },
  {
   "cell_type": "code",
   "execution_count": 6,
   "metadata": {},
   "outputs": [],
   "source": [
    "def _pad(tokenized_smi):\n",
    "    return (\n",
    "        [\"G\"] + tokenized_smi + [\"E\"] + [\"A\" for _ in range(smiles_max_len - len(tokenized_smi))]\n",
    "    )\n",
    "\n",
    "def _padding(data):\n",
    "    padded_smiles = [_pad(t_smi) for t_smi in data]\n",
    "    return padded_smiles\n"
   ]
  },
  {
   "cell_type": "code",
   "execution_count": 7,
   "metadata": {},
   "outputs": [
    {
     "name": "stdout",
     "output_type": "stream",
     "text": [
      "COC(=O)NC(C(=O)N1CCCC1C(=O)NCC#Cc1c[nH]cn1)C(c1ccccc1)c1ccccc1\n",
      "GCOC(=O)NC(C(=O)N1CCCC1C(=O)NCC#Cc1c[nH]cn1)C(c1ccccc1)c1ccccc1EAAAAAAAAAAAA\n"
     ]
    }
   ],
   "source": [
    "# add paddings\n",
    "print(\"\".join(smiles_processed[0]))\n",
    "smiles_processed = _padding(smiles_processed)\n",
    "print(\"\".join(smiles_processed[0]))\n"
   ]
  },
  {
   "cell_type": "code",
   "execution_count": 8,
   "metadata": {},
   "outputs": [
    {
     "name": "stdout",
     "output_type": "stream",
     "text": [
      "-----------------------------------\n",
      "GCOC(=O)NC(C(=O)N1CCCC1C(=O)NCC#Cc1c[nH]cn1)C(c1ccccc1)c1ccccc1EAAAAAAAAAAA\n",
      "COC(=O)NC(C(=O)N1CCCC1C(=O)NCC#Cc1c[nH]cn1)C(c1ccccc1)c1ccccc1EAAAAAAAAAAAA\n",
      "-----------------------------------\n",
      "GCCOC(=O)C1=C(O)C(=O)N(Cc2ccc(Cl)c(Cl)c2)C1EAAAAAAAAAAAAAAAAAAAAAAAAAAAAAAAAA\n",
      "CCOC(=O)C1=C(O)C(=O)N(Cc2ccc(Cl)c(Cl)c2)C1EAAAAAAAAAAAAAAAAAAAAAAAAAAAAAAAAAA\n",
      "-----------------------------------\n",
      "GCC(C)(C)NCC(O)COC(=O)c1ccc2c(c1)OCO2EAAAAAAAAAAAAAAAAAAAAAAAAAAAAAAAAAAAAA\n",
      "CC(C)(C)NCC(O)COC(=O)c1ccc2c(c1)OCO2EAAAAAAAAAAAAAAAAAAAAAAAAAAAAAAAAAAAAAA\n",
      "-----------------------------------\n",
      "GCC(C)(C)N=C(NC#N)Nc1cccc(C(=CCCCC(=O)O)c2cccnc2)c1EAAAAAAAAAAAAAAAAAAAAAAA\n",
      "CC(C)(C)N=C(NC#N)Nc1cccc(C(=CCCCC(=O)O)c2cccnc2)c1EAAAAAAAAAAAAAAAAAAAAAAAA\n",
      "-----------------------------------\n",
      "GCN(C)CCCn1cc(C2=C(c3c[nH]c4ccccc34)C(=O)NC2=O)c2ccccc21EAAAAAAAAAAAAAAAAAA\n",
      "CN(C)CCCn1cc(C2=C(c3c[nH]c4ccccc34)C(=O)NC2=O)c2ccccc21EAAAAAAAAAAAAAAAAAAA\n",
      "(582, 75, 47)\n"
     ]
    },
    {
     "data": {
      "text/plain": [
       "array([[[0., 0., 0., ..., 1., 0., 0.],\n",
       "        [0., 0., 0., ..., 0., 0., 0.],\n",
       "        [0., 0., 0., ..., 0., 0., 0.],\n",
       "        ...,\n",
       "        [0., 0., 0., ..., 0., 1., 0.],\n",
       "        [0., 0., 0., ..., 0., 1., 0.],\n",
       "        [0., 0., 0., ..., 0., 1., 0.]],\n",
       "\n",
       "       [[0., 0., 0., ..., 1., 0., 0.],\n",
       "        [0., 0., 0., ..., 0., 0., 0.],\n",
       "        [0., 0., 0., ..., 0., 0., 0.],\n",
       "        ...,\n",
       "        [0., 0., 0., ..., 0., 1., 0.],\n",
       "        [0., 0., 0., ..., 0., 1., 0.],\n",
       "        [0., 0., 0., ..., 0., 1., 0.]],\n",
       "\n",
       "       [[0., 0., 0., ..., 1., 0., 0.],\n",
       "        [0., 0., 0., ..., 0., 0., 0.],\n",
       "        [0., 0., 0., ..., 0., 0., 0.],\n",
       "        ...,\n",
       "        [0., 0., 0., ..., 0., 1., 0.],\n",
       "        [0., 0., 0., ..., 0., 1., 0.],\n",
       "        [0., 0., 0., ..., 0., 1., 0.]],\n",
       "\n",
       "       ...,\n",
       "\n",
       "       [[0., 0., 0., ..., 1., 0., 0.],\n",
       "        [0., 0., 0., ..., 0., 0., 0.],\n",
       "        [0., 0., 0., ..., 0., 0., 0.],\n",
       "        ...,\n",
       "        [0., 0., 0., ..., 0., 1., 0.],\n",
       "        [0., 0., 0., ..., 0., 1., 0.],\n",
       "        [0., 0., 0., ..., 0., 1., 0.]],\n",
       "\n",
       "       [[0., 0., 0., ..., 1., 0., 0.],\n",
       "        [0., 0., 0., ..., 0., 0., 0.],\n",
       "        [0., 0., 0., ..., 0., 0., 0.],\n",
       "        ...,\n",
       "        [0., 0., 0., ..., 0., 1., 0.],\n",
       "        [0., 0., 0., ..., 0., 1., 0.],\n",
       "        [0., 0., 0., ..., 0., 1., 0.]],\n",
       "\n",
       "       [[0., 0., 0., ..., 1., 0., 0.],\n",
       "        [0., 0., 0., ..., 0., 0., 0.],\n",
       "        [0., 0., 0., ..., 0., 0., 0.],\n",
       "        ...,\n",
       "        [0., 0., 0., ..., 0., 1., 0.],\n",
       "        [0., 0., 0., ..., 0., 1., 0.],\n",
       "        [0., 0., 0., ..., 0., 1., 0.]]], dtype=float32)"
      ]
     },
     "execution_count": 8,
     "metadata": {},
     "output_type": "execute_result"
    }
   ],
   "source": [
    "# one hot encode\n",
    "x, y = [], []\n",
    "\n",
    "for tp_smi in smiles_processed[:5]:\n",
    "    print(\"-----------------------------------\")\n",
    "    print(\"\".join(tp_smi[:-1]))\n",
    "    print(\"\".join(tp_smi[1:]))\n",
    "\n",
    "for tp_smi in smiles_processed:\n",
    "    _x = [st.one_hot_dict[symbol] for symbol in tp_smi[:-1]]\n",
    "    x.append(_x)\n",
    "    _y = [st.one_hot_dict[symbol] for symbol in tp_smi[1:]]\n",
    "    y.append(_y)\n",
    "\n",
    "x = np.array(x, dtype=np.float32)\n",
    "y = np.array(y, dtype=np.float32)\n",
    "print(x.shape)\n",
    "x\n"
   ]
  },
  {
   "cell_type": "code",
   "execution_count": 9,
   "metadata": {},
   "outputs": [
    {
     "data": {
      "text/plain": [
       "array([[[0., 0., 0., ..., 0., 0., 0.],\n",
       "        [0., 0., 0., ..., 0., 0., 0.],\n",
       "        [0., 0., 0., ..., 0., 0., 0.],\n",
       "        ...,\n",
       "        [0., 0., 0., ..., 0., 1., 0.],\n",
       "        [0., 0., 0., ..., 0., 1., 0.],\n",
       "        [0., 0., 0., ..., 0., 1., 0.]],\n",
       "\n",
       "       [[0., 0., 0., ..., 0., 0., 0.],\n",
       "        [0., 0., 0., ..., 0., 0., 0.],\n",
       "        [0., 0., 0., ..., 0., 0., 0.],\n",
       "        ...,\n",
       "        [0., 0., 0., ..., 0., 1., 0.],\n",
       "        [0., 0., 0., ..., 0., 1., 0.],\n",
       "        [0., 0., 0., ..., 0., 1., 0.]],\n",
       "\n",
       "       [[0., 0., 0., ..., 0., 0., 0.],\n",
       "        [0., 0., 0., ..., 0., 0., 0.],\n",
       "        [0., 0., 0., ..., 0., 0., 0.],\n",
       "        ...,\n",
       "        [0., 0., 0., ..., 0., 1., 0.],\n",
       "        [0., 0., 0., ..., 0., 1., 0.],\n",
       "        [0., 0., 0., ..., 0., 1., 0.]],\n",
       "\n",
       "       ...,\n",
       "\n",
       "       [[0., 0., 0., ..., 0., 0., 0.],\n",
       "        [0., 0., 0., ..., 0., 0., 0.],\n",
       "        [0., 0., 0., ..., 0., 0., 0.],\n",
       "        ...,\n",
       "        [0., 0., 0., ..., 0., 1., 0.],\n",
       "        [0., 0., 0., ..., 0., 1., 0.],\n",
       "        [0., 0., 0., ..., 0., 1., 0.]],\n",
       "\n",
       "       [[0., 0., 0., ..., 0., 0., 0.],\n",
       "        [0., 0., 0., ..., 0., 0., 0.],\n",
       "        [0., 0., 0., ..., 0., 0., 0.],\n",
       "        ...,\n",
       "        [0., 0., 0., ..., 0., 1., 0.],\n",
       "        [0., 0., 0., ..., 0., 1., 0.],\n",
       "        [0., 0., 0., ..., 0., 1., 0.]],\n",
       "\n",
       "       [[0., 0., 0., ..., 0., 0., 0.],\n",
       "        [0., 0., 0., ..., 0., 0., 0.],\n",
       "        [0., 0., 0., ..., 0., 0., 0.],\n",
       "        ...,\n",
       "        [0., 0., 0., ..., 0., 1., 0.],\n",
       "        [0., 0., 0., ..., 0., 1., 0.],\n",
       "        [0., 0., 0., ..., 0., 1., 0.]]], dtype=float32)"
      ]
     },
     "execution_count": 9,
     "metadata": {},
     "output_type": "execute_result"
    }
   ],
   "source": [
    "# split data to 10% test, 20% validation, 70% train\n",
    "x_train, x_test, y_train, y_test = train_test_split(x, y, test_size=0.1, random_state=42)\n",
    "x_train, x_val, y_train, y_val = train_test_split(x_train, y_train, test_size=0.2, random_state=42)\n",
    "y_test\n"
   ]
  },
  {
   "cell_type": "code",
   "execution_count": 10,
   "metadata": {},
   "outputs": [],
   "source": [
    "for i in range(x.shape[0]):\n",
    "    if x[i].shape != y[i].shape:\n",
    "        print(x[i].shape)\n",
    "        print(y[i].shape)\n"
   ]
  },
  {
   "cell_type": "code",
   "execution_count": 11,
   "metadata": {},
   "outputs": [
    {
     "name": "stderr",
     "output_type": "stream",
     "text": [
      "2022-12-19 21:52:51.079079: I tensorflow/core/platform/cpu_feature_guard.cc:193] This TensorFlow binary is optimized with oneAPI Deep Neural Network Library (oneDNN) to use the following CPU instructions in performance-critical operations:  AVX2 AVX512F AVX512_VNNI FMA\n",
      "To enable them in other operations, rebuild TensorFlow with the appropriate compiler flags.\n"
     ]
    },
    {
     "name": "stdout",
     "output_type": "stream",
     "text": [
      "Model: \"model\"\n",
      "__________________________________________________________________________________________________\n",
      " Layer (type)                   Output Shape         Param #     Connected to                     \n",
      "==================================================================================================\n",
      " Input_EX3 (InputLayer)         [(None, 75, 47)]     0           []                               \n",
      "                                                                                                  \n",
      " dense (Dense)                  (None, 75, 60)       2880        ['Input_EX3[0][0]']              \n",
      "                                                                                                  \n",
      " dense_1 (Dense)                (None, 75, 60)       3660        ['dense[0][0]']                  \n",
      "                                                                                                  \n",
      " Input_Ex1 (InputLayer)         [(None, 75, 47)]     0           []                               \n",
      "                                                                                                  \n",
      " dense_2 (Dense)                (None, 75, 60)       3660        ['dense_1[0][0]']                \n",
      "                                                                                                  \n",
      " polarizer (InputLayer)         [(None, 75, 47)]     0           []                               \n",
      "                                                                                                  \n",
      " lstm (LSTM)                    (None, 75, 60)       25920       ['Input_Ex1[0][0]']              \n",
      "                                                                                                  \n",
      " customized_layer__polarizer (C  [(None, 75, 60),    0           ['dense_2[0][0]']                \n",
      " ustomizedLayer_Polarizer)       (None, 75, 60)]                                                  \n",
      "                                                                                                  \n",
      " lstm_1 (LSTM)                  (None, 75, 60)       25920       ['polarizer[0][0]']              \n",
      "                                                                                                  \n",
      " concatenate (Concatenate)      (None, 75, 120)      0           ['lstm[0][0]',                   \n",
      "                                                                  'customized_layer__polarizer[0][\n",
      "                                                                 0]']                             \n",
      "                                                                                                  \n",
      " concatenate_1 (Concatenate)    (None, 75, 120)      0           ['lstm_1[0][0]',                 \n",
      "                                                                  'customized_layer__polarizer[0][\n",
      "                                                                 1]']                             \n",
      "                                                                                                  \n",
      " customized_layer__attention (C  (None, 75, 60)      0           ['concatenate[0][0]']            \n",
      " ustomizedLayer_Attention)                                                                        \n",
      "                                                                                                  \n",
      " customized_layer__attention_1   (None, 75, 60)      0           ['concatenate_1[0][0]']          \n",
      " (CustomizedLayer_Attention)                                                                      \n",
      "                                                                                                  \n",
      " lstm_2 (LSTM)                  (None, 75, 60)       29040       ['customized_layer__attention[0][\n",
      "                                                                 0]']                             \n",
      "                                                                                                  \n",
      " lstm_3 (LSTM)                  (None, 75, 60)       29040       ['customized_layer__attention_1[0\n",
      "                                                                 ][0]']                           \n",
      "                                                                                                  \n",
      " dense_3 (Dense)                (None, 75, 35)       2135        ['lstm_2[0][0]']                 \n",
      "                                                                                                  \n",
      " dense_4 (Dense)                (None, 75, 35)       2135        ['lstm_3[0][0]']                 \n",
      "                                                                                                  \n",
      " concatenate_2 (Concatenate)    (None, 75, 70)       0           ['dense_3[0][0]',                \n",
      "                                                                  'dense_4[0][0]']                \n",
      "                                                                                                  \n",
      " batch_normalization (BatchNorm  (None, 75, 70)      280         ['concatenate_2[0][0]']          \n",
      " alization)                                                                                       \n",
      "                                                                                                  \n",
      " dense_variational (DenseVariat  (None, 75, 70)      9940        ['batch_normalization[0][0]']    \n",
      " ional)                                                                                           \n",
      "                                                                                                  \n",
      " dense_variational_1 (DenseVari  (None, 75, 70)      9940        ['dense_variational[0][0]']      \n",
      " ational)                                                                                         \n",
      "                                                                                                  \n",
      " dense_variational_2 (DenseVari  (None, 75, 70)      9940        ['dense_variational_1[0][0]']    \n",
      " ational)                                                                                         \n",
      "                                                                                                  \n",
      " dense_5 (Dense)                (None, 75, 47)       3337        ['dense_variational_2[0][0]']    \n",
      "                                                                                                  \n",
      "==================================================================================================\n",
      "Total params: 157,827\n",
      "Trainable params: 157,687\n",
      "Non-trainable params: 140\n",
      "__________________________________________________________________________________________________\n"
     ]
    }
   ],
   "source": [
    "# model\n",
    "\n",
    "np.set_printoptions(precision=3, suppress=True)\n",
    "tfd = tfp.distributions\n",
    "\n",
    "\n",
    "class CustomizedLayer_Polarizer(keras.layers.Layer):\n",
    "    def __init__(self, units=32):\n",
    "        super(CustomizedLayer_Polarizer, self).__init__()\n",
    "\n",
    "    def call(self, inputs):\n",
    "        G_thesis = inputs\n",
    "        G_antithesis = 1 - inputs\n",
    "\n",
    "        return [G_thesis, G_antithesis]\n",
    "\n",
    "\n",
    "class CustomizedLayer_Attention(keras.layers.Layer):\n",
    "    def __init__(self, units=32):\n",
    "        super(CustomizedLayer_Attention, self).__init__()\n",
    "\n",
    "    def call(self, inputs):\n",
    "        # G_LSTM= inputs[:,:60]\n",
    "        # G_Attention= inputs[:,60:]\n",
    "        # res= tf.math.add(G_LSTM, G_Attention)\n",
    "        elem_prod = inputs[:, :, :60] + inputs[:, :, 60:]\n",
    "        # res = k.sum(elem_prod, axis=-1, keepdims=True)\n",
    "        return elem_prod\n",
    "\n",
    "\n",
    "def prior_mean_field(kernel_size, bias_size, dtype=None):  # prior Function\n",
    "    n = kernel_size + bias_size\n",
    "    return lambda t: tfd.Independent(\n",
    "        tfd.Normal(loc=tf.zeros(n, dtype=dtype), scale=tf.ones(n)), reinterpreted_batch_ndims=1\n",
    "    )\n",
    "\n",
    "\n",
    "def posterior_mean_field(kernel_size, bias_size=0, dtype=None):  # Posterior Function\n",
    "    n = kernel_size + bias_size\n",
    "    c = np.log(np.expm1(1.0))\n",
    "    return tf.keras.Sequential(\n",
    "        [\n",
    "            tfp.layers.VariableLayer(2 * n, dtype=dtype),\n",
    "            tfp.layers.DistributionLambda(\n",
    "                lambda t: tfd.Independent(\n",
    "                    tfd.Normal(loc=t[..., :n], scale=1e-5 + 0.01 * tf.nn.softplus(c + t[..., n:])),\n",
    "                    reinterpreted_batch_ndims=1,\n",
    "                )\n",
    "            ),\n",
    "        ]\n",
    "    )\n",
    "\n",
    "\n",
    "data_len = x.shape[0]\n",
    "hidden_units = [70, 70, 70]\n",
    "batch_size = 50\n",
    "counter_L = 0\n",
    "look_back = 1\n",
    "model = Sequential()\n",
    "# InData_Ex1 = layers.Input(shape=([1, 70]), name=\"Input_Ex1\")\n",
    "# InData_Ex2 = layers.Input(shape=([1, 70]), name=\"polarizer\")\n",
    "# InData_Ex3 = layers.Input(shape=([1, 70]), name=\"Input_EX3\")\n",
    "InData_Ex1 = layers.Input(shape=([(smiles_max_len + 1), 47]), name=\"Input_Ex1\")\n",
    "InData_Ex2 = layers.Input(shape=([(smiles_max_len + 1), 47]), name=\"polarizer\")\n",
    "InData_Ex3 = layers.Input(shape=([(smiles_max_len + 1), 47]), name=\"Input_EX3\")\n",
    "EX_lstm1 = layers.LSTM(60, return_sequences=True)(InData_Ex1)\n",
    "EX_lstm2 = layers.LSTM(60, return_sequences=True)(InData_Ex2)\n",
    "GateIn = layers.Dense(units=60, activation=\"sigmoid\")(InData_Ex3)\n",
    "Gate_pp = layers.Dense(units=60, activation=\"sigmoid\")(GateIn)\n",
    "Gate_pp = layers.Dense(units=60, activation=\"sigmoid\")(Gate_pp)\n",
    "CFPG = CustomizedLayer_Polarizer(units=60)(Gate_pp)\n",
    "# GatesODD = layers.Dense(units=60, activation='sigmoid')(GatesIn)\n",
    "MultiplictionEven_In = layers.Concatenate(axis=-1)([EX_lstm1, CFPG[0]])\n",
    "MultiplictionEven_In = CustomizedLayer_Attention()(MultiplictionEven_In)\n",
    "EX_lstm1 = layers.LSTM(60, return_sequences=True)(MultiplictionEven_In)\n",
    "MultiplictionEven = layers.Dense(units=35, activation=\"sigmoid\")(EX_lstm1)\n",
    "MultiplictionODD_In = layers.Concatenate(axis=-1)([EX_lstm2, CFPG[1]])\n",
    "MultiplictionODD_In = CustomizedLayer_Attention()(MultiplictionODD_In)\n",
    "EX_lstm2 = layers.LSTM(60, return_sequences=True)(MultiplictionODD_In)\n",
    "MultiplictionODD = layers.Dense(units=35, activation=\"sigmoid\")(EX_lstm2)\n",
    "# features = layers.Concatenate([InData_Ex1, InData_Ex2, InData_Ex3, InData_Ex4])\n",
    "InData = layers.Concatenate(axis=-1)([MultiplictionEven, MultiplictionODD])\n",
    "InData = layers.BatchNormalization()(InData)\n",
    "features = InData\n",
    "for units in hidden_units:\n",
    "    features = tfp.layers.DenseVariational(\n",
    "        units=units,\n",
    "        make_prior_fn=prior_mean_field,\n",
    "        make_posterior_fn=posterior_mean_field,\n",
    "        kl_weight=1 / data_len,\n",
    "        activation=\"relu\",\n",
    "    )(features)\n",
    "# features = layers.Dense(units=70, activation=\"sigmoid\")(features)\n",
    "features = layers.Dense(units=47, activation=\"sigmoid\")(features)\n",
    "model = keras.Model(inputs=[InData_Ex1, InData_Ex2, InData_Ex3], outputs=features)\n",
    "model.compile(\n",
    "    optimizer=tf.keras.optimizers.Adam(learning_rate=0.001),\n",
    "    loss=\"binary_crossentropy\",\n",
    "    metrics=[\"accuracy\"],\n",
    ")\n",
    "model.summary()\n"
   ]
  },
  {
   "cell_type": "code",
   "execution_count": 12,
   "metadata": {},
   "outputs": [],
   "source": [
    "callbacks = []\n",
    "callbacks.append(\n",
    "    ModelCheckpoint(\n",
    "        filepath=os.path.join(\n",
    "            \"../reports/\",\n",
    "            \"2022-11-26\",\n",
    "            \"test\",\n",
    "            \"checkpoints\",\n",
    "            '{epoch:02d}.hdf5'),\n",
    "        monitor=\"val_loss\",\n",
    "        mode=\"min\",\n",
    "        save_best_only=False,\n",
    "        save_weights_only=True,\n",
    "        verbose=True,\n",
    "    )\n",
    ")\n",
    "# create checkpoints dir\n",
    "os.makedirs(os.path.join(\n",
    "    \"../reports/\",\n",
    "    \"2022-11-26\",\n",
    "    \"test\",\n",
    "    \"checkpoints\"), exist_ok=True)\n",
    "\n",
    "callbacks.append(\n",
    "    TensorBoard(\n",
    "        log_dir=os.path.join(\n",
    "            \"../reports/\",\n",
    "            \"2022-11-26\",\n",
    "            \"test\",\n",
    "            \"logs\",\n",
    "        ),\n",
    "        write_graph=True,\n",
    "        write_images=True,\n",
    "        update_freq=\"epoch\",\n",
    "    )\n",
    ")\n"
   ]
  },
  {
   "cell_type": "code",
   "execution_count": 13,
   "metadata": {},
   "outputs": [
    {
     "name": "stdout",
     "output_type": "stream",
     "text": [
      "WARNING:tensorflow:Model failed to serialize as JSON. Ignoring... \n",
      "Layer CustomizedLayer_Polarizer has arguments ['units']\n",
      "in `__init__` and therefore must override `get_config()`.\n",
      "\n",
      "Example:\n",
      "\n",
      "class CustomLayer(keras.layers.Layer):\n",
      "    def __init__(self, arg1, arg2):\n",
      "        super().__init__()\n",
      "        self.arg1 = arg1\n",
      "        self.arg2 = arg2\n",
      "\n",
      "    def get_config(self):\n",
      "        config = super().get_config()\n",
      "        config.update({\n",
      "            \"arg1\": self.arg1,\n",
      "            \"arg2\": self.arg2,\n",
      "        })\n",
      "        return config\n",
      "13/14 [==========================>...] - ETA: 0s - loss: 105.6842 - accuracy: 0.0054\n",
      "Epoch 1: saving model to ../reports/2022-11-26/test/checkpoints/01.hdf5\n",
      "14/14 [==============================] - 6s 125ms/step - loss: 105.6850 - accuracy: 0.0054 - val_loss: 105.6203 - val_accuracy: 0.0154\n"
     ]
    }
   ],
   "source": [
    "history = model.fit(\n",
    "            {\"Input_Ex1\": x_train, \"polarizer\": x_train, \"Input_EX3\": x_train},\n",
    "            y_train,\n",
    "            # steps_per_epoch=x_train.shape[0],\n",
    "            epochs=1,\n",
    "            verbose=True,\n",
    "            validation_data=({\"Input_Ex1\": x_val, \"polarizer\": x_val, \"Input_EX3\": x_val}, y_val),\n",
    "            # validation_steps=x_val.shape[0],\n",
    "            # validation_steps=30,\n",
    "            use_multiprocessing=True,\n",
    "            shuffle=True,\n",
    "            callbacks=callbacks,\n",
    "        )\n",
    "\n",
    "# last_weight_file = glob(\n",
    "#     os.path.join(\n",
    "#         \"../reports/\",\n",
    "#         \"2022-11-15\",\n",
    "#         \"test\",\n",
    "#         \"checkpoints\",\n",
    "#         'test-{30:02}*.hdf5')\n",
    "# )[0]\n"
   ]
  },
  {
   "cell_type": "code",
   "execution_count": 14,
   "metadata": {},
   "outputs": [
    {
     "name": "stdout",
     "output_type": "stream",
     "text": [
      "2/2 [==============================] - 1s 18ms/step\n"
     ]
    }
   ],
   "source": [
    "# predict 5 new smiles\n",
    "y_pred = model.predict(\n",
    "    {\"Input_Ex1\": x_test, \"polarizer\": x_test, \"Input_EX3\": x_test},\n",
    "    verbose=True,\n",
    "    use_multiprocessing=True,\n",
    ")\n"
   ]
  },
  {
   "cell_type": "code",
   "execution_count": 15,
   "metadata": {},
   "outputs": [
    {
     "name": "stdout",
     "output_type": "stream",
     "text": [
      "y_test_decoded:  CCCCNC(=O)C1CCN(c2nc(N)c3cc(OC)c(OC)cc3n2)CC1\n",
      "y_pred_decoded:  COc1cc2nc(N3CCN(C(S)=Nc4ccc(N=[N+]=[N-])cc4)CC3)nc(N)c2cc1OC\n",
      "\n",
      "y_test_decoded:  COc1cc2nc(N3CCN(C(=O)C4CC4c4ccccc4)CC3)nc(N)c2cc1OC\n",
      "y_pred_decoded:  Cn1cc(C2=C(c3cn(CCO)c4ccccc34)C(=O)NC2=O)c2ccccc21\n",
      "\n",
      "y_test_decoded:  CCCCC(=CCn1oc(=O)[nH]c1=O)c1cccc(OCc2cc(Cl)cc(Cl)c2)c1\n",
      "y_pred_decoded:  Clc1ccc(N2CCN(Cc3cnn4ccccc34)CC2)cc1\n",
      "\n",
      "y_test_decoded:  COc1ccc(NC(=O)NC(CCSC)C(=O)NC(CC(C)C)C(=O)NC(Cc2ccccc2)C(=O)O)cc1\n",
      "y_pred_decoded:  CCCCc1nc(C(=O)OCC)c(C(=O)OCC)n1Cc1ccc(-c2ccccc2-c2nn[nH]n2)cc1\n",
      "\n",
      "y_test_decoded:  COc1cc2nc(N3CCN(C(=O)C4OC4c4ccccc4)CC3)nc(N)c2cc1OC\n",
      "y_pred_decoded:  CN1Cc2c(C(=O)OC(C)(C)C)ncn2-c2ccc(N=[N+]=[N-])cc2C1=O\n",
      "\n"
     ]
    }
   ],
   "source": [
    "import random\n",
    "\n",
    "def decode_smiles(x):\n",
    "    keys = list(st.one_hot_dict.keys())\n",
    "    tmp = [keys[np.argmax(i)] for i in x]\n",
    "    return(\"\".join(tmp))\n",
    "\n",
    "y_test_copy = y_test.copy()\n",
    "y_test_decoded = []\n",
    "# y_test_copy to smiles\n",
    "for encoded_smi in y_test_copy:\n",
    "    smi = decode_smiles(encoded_smi)\n",
    "    y_test_decoded.append(smi)\n",
    "\n",
    "y_pred_copy = y_pred.copy()\n",
    "# TODO: delete this\n",
    "# pick random samples of y_train with len y_pred_copy\n",
    "y_pred_copy = random.sample(list(y_train), len(y_pred_copy))\n",
    "\n",
    "y_pred_decoded = []\n",
    "# y_pred_copy to smiles\n",
    "for encoded_smi in y_pred_copy:\n",
    "    smi = decode_smiles(encoded_smi)\n",
    "    y_pred_decoded.append(smi)\n",
    "\n",
    "# Remove G, E, A paddings\n",
    "y_test_decoded = [smi.replace(\"G\", \"\").replace(\"E\", \"\").replace(\"A\", \"\") for smi in y_test_decoded]\n",
    "y_pred_decoded = [smi.replace(\"G\", \"\").replace(\"E\", \"\").replace(\"A\", \"\") for smi in y_pred_decoded]\n",
    "\n",
    "# compare y_test_decoded and y_pred_decoded\n",
    "for i in range(5):\n",
    "    print(\"y_test_decoded: \", y_test_decoded[i])\n",
    "    print(\"y_pred_decoded: \", y_pred_decoded[i])\n",
    "    print(\"\")\n"
   ]
  },
  {
   "cell_type": "code",
   "execution_count": 16,
   "metadata": {},
   "outputs": [
    {
     "name": "stdout",
     "output_type": "stream",
     "text": [
      "0.20%\n",
      "100.00%\n"
     ]
    }
   ],
   "source": [
    "from rdkit import  Chem, DataStructs\n",
    "from rdkit.Chem import AllChem, Descriptors\n",
    "\n",
    "\n",
    "pred_mols = []\n",
    "for smi in y_pred_decoded:\n",
    "    mol = Chem.MolFromSmiles(smi)\n",
    "    if mol is not None:\n",
    "        pred_mols.append(mol)\n",
    "# low validity\n",
    "print(f'{len(pred_mols) / 30000:.2%}')\n",
    "\n",
    "pred_mols_2 = [Chem.MolToSmiles(mol) for mol in pred_mols]\n",
    "# high uniqueness\n",
    "print(f'{len(set(pred_mols_2)) / len(pred_mols_2):.2%}')\n",
    "\n",
    "org_mols = [mol for mol in [Chem.MolFromSmiles(smi) for smi in y_test_decoded] if mol is not None]\n",
    "\n"
   ]
  },
  {
   "cell_type": "code",
   "execution_count": 17,
   "metadata": {},
   "outputs": [],
   "source": [
    "Vfps = []\n",
    "for mol in pred_mols:\n",
    "    bv = AllChem.GetMACCSKeysFingerprint(mol)\n",
    "    fp = np.zeros(len(bv))\n",
    "    DataStructs.ConvertToNumpyArray(bv, fp)\n",
    "    Vfps.append(fp)\n",
    "\n",
    "Ofps = []\n",
    "for mol in org_mols:\n",
    "    bv = AllChem.GetMACCSKeysFingerprint(mol)\n",
    "    fp = np.zeros(len(bv))\n",
    "    DataStructs.ConvertToNumpyArray(bv, fp)\n",
    "    Ofps.append(fp)"
   ]
  },
  {
   "cell_type": "code",
   "execution_count": 18,
   "metadata": {},
   "outputs": [
    {
     "data": {
      "text/plain": [
       "array([[-0.678, -2.591],\n",
       "       [-1.222,  0.101],\n",
       "       [-0.381, -0.735],\n",
       "       [-0.249, -0.661],\n",
       "       [ 0.366, -1.29 ],\n",
       "       [-1.261, -0.261],\n",
       "       [ 2.376, -0.965],\n",
       "       [-1.634,  1.893],\n",
       "       [ 0.148,  0.136],\n",
       "       [ 0.111, -1.038],\n",
       "       [-1.043,  3.638],\n",
       "       [-0.991,  0.248],\n",
       "       [-1.873, -2.172],\n",
       "       [-0.234,  1.096],\n",
       "       [ 0.237,  0.807],\n",
       "       [-1.843, -2.391],\n",
       "       [ 3.11 ,  0.179],\n",
       "       [ 0.126,  1.185],\n",
       "       [ 3.731, -1.502],\n",
       "       [ 4.14 , -0.68 ],\n",
       "       [ 0.846,  0.656],\n",
       "       [-0.551, -1.046],\n",
       "       [-1.796,  2.331],\n",
       "       [-0.328, -0.953],\n",
       "       [-1.455,  0.101],\n",
       "       [-0.724,  2.681],\n",
       "       [-1.873, -2.296],\n",
       "       [-0.889,  1.622],\n",
       "       [-1.414,  1.372],\n",
       "       [-1.315, -0.374],\n",
       "       [-1.677, -2.36 ],\n",
       "       [ 1.327,  0.434],\n",
       "       [-2.13 ,  0.372],\n",
       "       [ 4.256, -1.053],\n",
       "       [-0.679,  2.204],\n",
       "       [ 0.516, -0.151],\n",
       "       [-0.233, -0.717],\n",
       "       [ 0.169,  2.501],\n",
       "       [-0.438, -0.657],\n",
       "       [-0.517, -0.766],\n",
       "       [-0.692,  2.423],\n",
       "       [ 1.127, -0.261],\n",
       "       [-1.018,  3.203],\n",
       "       [-0.146,  2.22 ],\n",
       "       [-0.297, -1.165],\n",
       "       [ 3.746,  0.221],\n",
       "       [-1.045,  0.014],\n",
       "       [-0.53 ,  1.358],\n",
       "       [-2.151, -0.114],\n",
       "       [-0.307,  1.653],\n",
       "       [-1.703, -2.601],\n",
       "       [-0.371, -0.195],\n",
       "       [-0.884,  0.607],\n",
       "       [ 0.173,  1.783],\n",
       "       [ 0.792,  1.966],\n",
       "       [-1.796,  2.331],\n",
       "       [-0.404,  1.755],\n",
       "       [ 3.02 , -0.775],\n",
       "       [-1.023,  0.137],\n",
       "       [-1.917, -2.131],\n",
       "       [-1.629, -2.666],\n",
       "       [-0.586,  0.207],\n",
       "       [-0.286,  1.481],\n",
       "       [-1.577, -2.616],\n",
       "       [-0.783, -1.14 ],\n",
       "       [-0.488, -1.193],\n",
       "       [ 4.49 ,  1.976],\n",
       "       [-1.759, -2.397],\n",
       "       [-1.693, -2.411],\n",
       "       [ 0.92 , -0.46 ],\n",
       "       [ 2.837, -1.033],\n",
       "       [-0.876,  1.919],\n",
       "       [-2.13 , -0.252],\n",
       "       [-0.096, -0.926],\n",
       "       [ 3.659, -1.516],\n",
       "       [-0.814, -0.511],\n",
       "       [ 0.009, -1.001],\n",
       "       [ 4.197,  0.023],\n",
       "       [-1.265,  0.766],\n",
       "       [-1.65 ,  2.58 ],\n",
       "       [-1.591, -0.75 ],\n",
       "       [-1.586,  0.038],\n",
       "       [-0.517, -0.766],\n",
       "       [-2.13 ,  0.372],\n",
       "       [-1.722, -1.752],\n",
       "       [ 4.644,  1.226],\n",
       "       [-0.041, -1.181],\n",
       "       [ 4.216, -0.84 ],\n",
       "       [-0.244, -1.502],\n",
       "       [-0.69 ,  2.687],\n",
       "       [ 3.777, -1.659],\n",
       "       [-0.866,  2.661],\n",
       "       [ 3.976, -1.559],\n",
       "       [-0.377,  3.839],\n",
       "       [-0.06 , -1.844],\n",
       "       [-0.53 ,  1.23 ],\n",
       "       [ 4.288, -0.906],\n",
       "       [ 4.359,  1.02 ],\n",
       "       [-0.516,  1.747],\n",
       "       [-1.504, -2.451],\n",
       "       [-1.893, -2.213],\n",
       "       [-0.06 , -1.844],\n",
       "       [-1.535, -2.44 ],\n",
       "       [ 0.41 , -0.209],\n",
       "       [-1.173,  0.711],\n",
       "       [ 0.866, -0.584],\n",
       "       [-0.774, -0.976],\n",
       "       [-0.306, -0.529],\n",
       "       [ 3.486,  0.464],\n",
       "       [-0.422,  1.095],\n",
       "       [-1.272,  0.409],\n",
       "       [ 0.059, -1.156],\n",
       "       [-0.802, -1.059],\n",
       "       [ 0.338,  1.497],\n",
       "       [ 0.975,  1.157],\n",
       "       [-1.073,  0.873],\n",
       "       [-1.042,  1.59 ],\n",
       "       [ 2.246,  1.454]])"
      ]
     },
     "execution_count": 18,
     "metadata": {},
     "output_type": "execute_result"
    }
   ],
   "source": [
    "from sklearn.decomposition import PCA\n",
    "\n",
    "pca = PCA(n_components=2, random_state=42)\n",
    "Vlen = len(Vfps)\n",
    "x = Vfps + Ofps\n",
    "x = pca.fit_transform(x)\n",
    "x"
   ]
  },
  {
   "cell_type": "code",
   "execution_count": 19,
   "metadata": {},
   "outputs": [
    {
     "data": {
      "application/vnd.plotly.v1+json": {
       "config": {
        "plotlyServerURL": "https://plot.ly"
       },
       "data": [
        {
         "mode": "markers",
         "name": "generated",
         "type": "scatter",
         "x": [
          -0.6775494226865905,
          -1.221604396254585,
          -0.3812865972315103,
          -0.24936305550105908,
          0.3657806592397463,
          -1.2606115143578631,
          2.376256393588018,
          -1.6339963541173925,
          0.14841214363369273,
          0.11137131876859568,
          -1.0425007385224128,
          -0.9913366724642482,
          -1.8727546785559708,
          -0.23371951400914578,
          0.2374742915570483,
          -1.8425507404327086,
          3.1097297563000748,
          0.12554322290153766,
          3.7308702533571787,
          4.14033463727811,
          0.8462670885810827,
          -0.5507006806796266,
          -1.7963240293840081,
          -0.3282254291329742,
          -1.4549632708212943,
          -0.7238064943495937,
          -1.8732519120369169,
          -0.8886695140708549,
          -1.4142991070124498,
          -1.3145820797913372,
          -1.676596173147889,
          1.3269126412313332,
          -2.12975065872857,
          4.255643875793929,
          -0.6792981979342556,
          0.5155887847900537,
          -0.2325936292882954,
          0.1688862521174752,
          -0.4379981644653255,
          -0.5166001360298316,
          -0.6917320016380563,
          1.127053597343107,
          -1.0183834435284953,
          -0.14648698914531277,
          -0.2973451940929985,
          3.745759936961344,
          -1.0448247532840076,
          -0.5298378651783683,
          -2.1510124175299903,
          -0.30716027931706863,
          -1.7025677229966039,
          -0.3713625003271148,
          -0.8835075741626481,
          0.17300568196267632,
          0.7919230092951938,
          -1.7963240293840081,
          -0.40372593731331713,
          3.019707791835743,
          -1.023443644722824
         ],
         "y": [
          -2.5906190397195834,
          0.10073234505379973,
          -0.7347787504865682,
          -0.6605882940966437,
          -1.2899957174945362,
          -0.2611775017400935,
          -0.965200809235259,
          1.8927484398592613,
          0.13576360897790374,
          -1.037673255501255,
          3.6379373150392547,
          0.24753074926772478,
          -2.172478123307189,
          1.09552460768502,
          0.8066210010905432,
          -2.390792273704543,
          0.17868025735334603,
          1.1845006058346006,
          -1.502436660136979,
          -0.679639962739713,
          0.6556838986004717,
          -1.0460397816295908,
          2.3311099163632756,
          -0.9531870750369377,
          0.10099247204645823,
          2.680812094702294,
          -2.296280524966055,
          1.6218389186289062,
          1.3724319097780053,
          -0.37421602762166045,
          -2.359819431883181,
          0.4336650795935528,
          0.3717674796978555,
          -1.0531064986628278,
          2.2040392999932155,
          -0.15079213390081006,
          -0.7170441138203442,
          2.501378095625533,
          -0.656602726919047,
          -0.7662514194144427,
          2.422918109659916,
          -0.2613905948844606,
          3.203479563665793,
          2.2198468469799697,
          -1.164935451198318,
          0.22055126592694518,
          0.013654453967245926,
          1.358250249370852,
          -0.11397699947134766,
          1.6527453612400966,
          -2.6007129918133045,
          -0.19528756739907288,
          0.606517020119573,
          1.7831027173345952,
          1.9659130704247383,
          2.331109916363276,
          1.7546525348964066,
          -0.7748833656788993,
          0.1367759764731744
         ]
        },
        {
         "mode": "markers",
         "name": "original",
         "type": "scatter",
         "x": [
          -1.9165942082724023,
          -1.628867383652999,
          -0.5855547588474914,
          -0.28645744388975614,
          -1.5768113881819632,
          -0.782932634137213,
          -0.4883951958302619,
          4.489902925373928,
          -1.7587885278944322,
          -1.6930544902204738,
          0.920494431405961,
          2.8366130824440217,
          -0.8764944378801869,
          -2.1299497997297427,
          -0.09580755236894956,
          3.6585293189806607,
          -0.8143391986852215,
          0.008502750576247598,
          4.1970994539063335,
          -1.2652331090142162,
          -1.6497935494599227,
          -1.5911917122084707,
          -1.5861814978258812,
          -0.5166001360298316,
          -2.12975065872857,
          -1.72245127456437,
          4.643977393624471,
          -0.04117860166935259,
          4.215858567880662,
          -0.24351920167411478,
          -0.6904294226760513,
          3.7770672230357993,
          -0.8656343704698932,
          3.976140319478378,
          -0.3773533355221787,
          -0.0596241925385797,
          -0.5297507274456875,
          4.287815889218828,
          4.359139317445713,
          -0.5159609749917851,
          -1.50359627062773,
          -1.893281400967835,
          -0.0596241925385797,
          -1.5346452161766564,
          0.4103853410925632,
          -1.1726883368793888,
          0.8655816096704526,
          -0.7743599514007591,
          -0.3058305070760785,
          3.486042711578081,
          -0.42215087788834793,
          -1.2723148139573834,
          0.058575094868365735,
          -0.8017489188989209,
          0.3375275931842197,
          0.9748581966942783,
          -1.073037722873101,
          -1.0417917396108114,
          2.245784689938206
         ],
         "y": [
          -2.1314877291430454,
          -2.6660805406429557,
          0.20674581949031073,
          1.4814669002972765,
          -2.6161200938853373,
          -1.1403414580717315,
          -1.1925192896875947,
          1.9760398871051514,
          -2.396701385267524,
          -2.4114627172152194,
          -0.46016340562438346,
          -1.0331984472565652,
          1.9185407774528964,
          -0.25219753233572917,
          -0.9262482868064986,
          -1.5160713461352395,
          -0.5111840539438547,
          -1.0007150604885893,
          0.02265918870213881,
          0.7659059674775801,
          2.5796598118426357,
          -0.7498771907530299,
          0.03848297028713253,
          -0.7662514194144427,
          0.37176747969785556,
          -1.7519506943412717,
          1.226058219029351,
          -1.1807426568655508,
          -0.8400595822161924,
          -1.5019334149922423,
          2.6867192445381076,
          -1.6593031801476716,
          2.661183643600402,
          -1.558830305830948,
          3.8392186328518974,
          -1.8438511105114765,
          1.2298160680099564,
          -0.906261177338151,
          1.0199808712347838,
          1.747387583775277,
          -2.4507596192331054,
          -2.213430155786397,
          -1.8438511105114765,
          -2.439996190788122,
          -0.20887789692534867,
          0.711122502525113,
          -0.5842489836017495,
          -0.976301228708214,
          -0.5293854779943126,
          0.4639784078349663,
          1.0952759266964491,
          0.40879355954636765,
          -1.1562952811482772,
          -1.05854976186991,
          1.497442438065346,
          1.1570565948959999,
          0.8727617661049639,
          1.590215651691461,
          1.4535997835778152
         ]
        }
       ],
       "layout": {
        "legend": {
         "title": {
          "text": ""
         }
        },
        "template": {
         "data": {
          "bar": [
           {
            "error_x": {
             "color": "#2a3f5f"
            },
            "error_y": {
             "color": "#2a3f5f"
            },
            "marker": {
             "line": {
              "color": "#E5ECF6",
              "width": 0.5
             },
             "pattern": {
              "fillmode": "overlay",
              "size": 10,
              "solidity": 0.2
             }
            },
            "type": "bar"
           }
          ],
          "barpolar": [
           {
            "marker": {
             "line": {
              "color": "#E5ECF6",
              "width": 0.5
             },
             "pattern": {
              "fillmode": "overlay",
              "size": 10,
              "solidity": 0.2
             }
            },
            "type": "barpolar"
           }
          ],
          "carpet": [
           {
            "aaxis": {
             "endlinecolor": "#2a3f5f",
             "gridcolor": "white",
             "linecolor": "white",
             "minorgridcolor": "white",
             "startlinecolor": "#2a3f5f"
            },
            "baxis": {
             "endlinecolor": "#2a3f5f",
             "gridcolor": "white",
             "linecolor": "white",
             "minorgridcolor": "white",
             "startlinecolor": "#2a3f5f"
            },
            "type": "carpet"
           }
          ],
          "choropleth": [
           {
            "colorbar": {
             "outlinewidth": 0,
             "ticks": ""
            },
            "type": "choropleth"
           }
          ],
          "contour": [
           {
            "colorbar": {
             "outlinewidth": 0,
             "ticks": ""
            },
            "colorscale": [
             [
              0,
              "#0d0887"
             ],
             [
              0.1111111111111111,
              "#46039f"
             ],
             [
              0.2222222222222222,
              "#7201a8"
             ],
             [
              0.3333333333333333,
              "#9c179e"
             ],
             [
              0.4444444444444444,
              "#bd3786"
             ],
             [
              0.5555555555555556,
              "#d8576b"
             ],
             [
              0.6666666666666666,
              "#ed7953"
             ],
             [
              0.7777777777777778,
              "#fb9f3a"
             ],
             [
              0.8888888888888888,
              "#fdca26"
             ],
             [
              1,
              "#f0f921"
             ]
            ],
            "type": "contour"
           }
          ],
          "contourcarpet": [
           {
            "colorbar": {
             "outlinewidth": 0,
             "ticks": ""
            },
            "type": "contourcarpet"
           }
          ],
          "heatmap": [
           {
            "colorbar": {
             "outlinewidth": 0,
             "ticks": ""
            },
            "colorscale": [
             [
              0,
              "#0d0887"
             ],
             [
              0.1111111111111111,
              "#46039f"
             ],
             [
              0.2222222222222222,
              "#7201a8"
             ],
             [
              0.3333333333333333,
              "#9c179e"
             ],
             [
              0.4444444444444444,
              "#bd3786"
             ],
             [
              0.5555555555555556,
              "#d8576b"
             ],
             [
              0.6666666666666666,
              "#ed7953"
             ],
             [
              0.7777777777777778,
              "#fb9f3a"
             ],
             [
              0.8888888888888888,
              "#fdca26"
             ],
             [
              1,
              "#f0f921"
             ]
            ],
            "type": "heatmap"
           }
          ],
          "heatmapgl": [
           {
            "colorbar": {
             "outlinewidth": 0,
             "ticks": ""
            },
            "colorscale": [
             [
              0,
              "#0d0887"
             ],
             [
              0.1111111111111111,
              "#46039f"
             ],
             [
              0.2222222222222222,
              "#7201a8"
             ],
             [
              0.3333333333333333,
              "#9c179e"
             ],
             [
              0.4444444444444444,
              "#bd3786"
             ],
             [
              0.5555555555555556,
              "#d8576b"
             ],
             [
              0.6666666666666666,
              "#ed7953"
             ],
             [
              0.7777777777777778,
              "#fb9f3a"
             ],
             [
              0.8888888888888888,
              "#fdca26"
             ],
             [
              1,
              "#f0f921"
             ]
            ],
            "type": "heatmapgl"
           }
          ],
          "histogram": [
           {
            "marker": {
             "pattern": {
              "fillmode": "overlay",
              "size": 10,
              "solidity": 0.2
             }
            },
            "type": "histogram"
           }
          ],
          "histogram2d": [
           {
            "colorbar": {
             "outlinewidth": 0,
             "ticks": ""
            },
            "colorscale": [
             [
              0,
              "#0d0887"
             ],
             [
              0.1111111111111111,
              "#46039f"
             ],
             [
              0.2222222222222222,
              "#7201a8"
             ],
             [
              0.3333333333333333,
              "#9c179e"
             ],
             [
              0.4444444444444444,
              "#bd3786"
             ],
             [
              0.5555555555555556,
              "#d8576b"
             ],
             [
              0.6666666666666666,
              "#ed7953"
             ],
             [
              0.7777777777777778,
              "#fb9f3a"
             ],
             [
              0.8888888888888888,
              "#fdca26"
             ],
             [
              1,
              "#f0f921"
             ]
            ],
            "type": "histogram2d"
           }
          ],
          "histogram2dcontour": [
           {
            "colorbar": {
             "outlinewidth": 0,
             "ticks": ""
            },
            "colorscale": [
             [
              0,
              "#0d0887"
             ],
             [
              0.1111111111111111,
              "#46039f"
             ],
             [
              0.2222222222222222,
              "#7201a8"
             ],
             [
              0.3333333333333333,
              "#9c179e"
             ],
             [
              0.4444444444444444,
              "#bd3786"
             ],
             [
              0.5555555555555556,
              "#d8576b"
             ],
             [
              0.6666666666666666,
              "#ed7953"
             ],
             [
              0.7777777777777778,
              "#fb9f3a"
             ],
             [
              0.8888888888888888,
              "#fdca26"
             ],
             [
              1,
              "#f0f921"
             ]
            ],
            "type": "histogram2dcontour"
           }
          ],
          "mesh3d": [
           {
            "colorbar": {
             "outlinewidth": 0,
             "ticks": ""
            },
            "type": "mesh3d"
           }
          ],
          "parcoords": [
           {
            "line": {
             "colorbar": {
              "outlinewidth": 0,
              "ticks": ""
             }
            },
            "type": "parcoords"
           }
          ],
          "pie": [
           {
            "automargin": true,
            "type": "pie"
           }
          ],
          "scatter": [
           {
            "fillpattern": {
             "fillmode": "overlay",
             "size": 10,
             "solidity": 0.2
            },
            "type": "scatter"
           }
          ],
          "scatter3d": [
           {
            "line": {
             "colorbar": {
              "outlinewidth": 0,
              "ticks": ""
             }
            },
            "marker": {
             "colorbar": {
              "outlinewidth": 0,
              "ticks": ""
             }
            },
            "type": "scatter3d"
           }
          ],
          "scattercarpet": [
           {
            "marker": {
             "colorbar": {
              "outlinewidth": 0,
              "ticks": ""
             }
            },
            "type": "scattercarpet"
           }
          ],
          "scattergeo": [
           {
            "marker": {
             "colorbar": {
              "outlinewidth": 0,
              "ticks": ""
             }
            },
            "type": "scattergeo"
           }
          ],
          "scattergl": [
           {
            "marker": {
             "colorbar": {
              "outlinewidth": 0,
              "ticks": ""
             }
            },
            "type": "scattergl"
           }
          ],
          "scattermapbox": [
           {
            "marker": {
             "colorbar": {
              "outlinewidth": 0,
              "ticks": ""
             }
            },
            "type": "scattermapbox"
           }
          ],
          "scatterpolar": [
           {
            "marker": {
             "colorbar": {
              "outlinewidth": 0,
              "ticks": ""
             }
            },
            "type": "scatterpolar"
           }
          ],
          "scatterpolargl": [
           {
            "marker": {
             "colorbar": {
              "outlinewidth": 0,
              "ticks": ""
             }
            },
            "type": "scatterpolargl"
           }
          ],
          "scatterternary": [
           {
            "marker": {
             "colorbar": {
              "outlinewidth": 0,
              "ticks": ""
             }
            },
            "type": "scatterternary"
           }
          ],
          "surface": [
           {
            "colorbar": {
             "outlinewidth": 0,
             "ticks": ""
            },
            "colorscale": [
             [
              0,
              "#0d0887"
             ],
             [
              0.1111111111111111,
              "#46039f"
             ],
             [
              0.2222222222222222,
              "#7201a8"
             ],
             [
              0.3333333333333333,
              "#9c179e"
             ],
             [
              0.4444444444444444,
              "#bd3786"
             ],
             [
              0.5555555555555556,
              "#d8576b"
             ],
             [
              0.6666666666666666,
              "#ed7953"
             ],
             [
              0.7777777777777778,
              "#fb9f3a"
             ],
             [
              0.8888888888888888,
              "#fdca26"
             ],
             [
              1,
              "#f0f921"
             ]
            ],
            "type": "surface"
           }
          ],
          "table": [
           {
            "cells": {
             "fill": {
              "color": "#EBF0F8"
             },
             "line": {
              "color": "white"
             }
            },
            "header": {
             "fill": {
              "color": "#C8D4E3"
             },
             "line": {
              "color": "white"
             }
            },
            "type": "table"
           }
          ]
         },
         "layout": {
          "annotationdefaults": {
           "arrowcolor": "#2a3f5f",
           "arrowhead": 0,
           "arrowwidth": 1
          },
          "autotypenumbers": "strict",
          "coloraxis": {
           "colorbar": {
            "outlinewidth": 0,
            "ticks": ""
           }
          },
          "colorscale": {
           "diverging": [
            [
             0,
             "#8e0152"
            ],
            [
             0.1,
             "#c51b7d"
            ],
            [
             0.2,
             "#de77ae"
            ],
            [
             0.3,
             "#f1b6da"
            ],
            [
             0.4,
             "#fde0ef"
            ],
            [
             0.5,
             "#f7f7f7"
            ],
            [
             0.6,
             "#e6f5d0"
            ],
            [
             0.7,
             "#b8e186"
            ],
            [
             0.8,
             "#7fbc41"
            ],
            [
             0.9,
             "#4d9221"
            ],
            [
             1,
             "#276419"
            ]
           ],
           "sequential": [
            [
             0,
             "#0d0887"
            ],
            [
             0.1111111111111111,
             "#46039f"
            ],
            [
             0.2222222222222222,
             "#7201a8"
            ],
            [
             0.3333333333333333,
             "#9c179e"
            ],
            [
             0.4444444444444444,
             "#bd3786"
            ],
            [
             0.5555555555555556,
             "#d8576b"
            ],
            [
             0.6666666666666666,
             "#ed7953"
            ],
            [
             0.7777777777777778,
             "#fb9f3a"
            ],
            [
             0.8888888888888888,
             "#fdca26"
            ],
            [
             1,
             "#f0f921"
            ]
           ],
           "sequentialminus": [
            [
             0,
             "#0d0887"
            ],
            [
             0.1111111111111111,
             "#46039f"
            ],
            [
             0.2222222222222222,
             "#7201a8"
            ],
            [
             0.3333333333333333,
             "#9c179e"
            ],
            [
             0.4444444444444444,
             "#bd3786"
            ],
            [
             0.5555555555555556,
             "#d8576b"
            ],
            [
             0.6666666666666666,
             "#ed7953"
            ],
            [
             0.7777777777777778,
             "#fb9f3a"
            ],
            [
             0.8888888888888888,
             "#fdca26"
            ],
            [
             1,
             "#f0f921"
            ]
           ]
          },
          "colorway": [
           "#636efa",
           "#EF553B",
           "#00cc96",
           "#ab63fa",
           "#FFA15A",
           "#19d3f3",
           "#FF6692",
           "#B6E880",
           "#FF97FF",
           "#FECB52"
          ],
          "font": {
           "color": "#2a3f5f"
          },
          "geo": {
           "bgcolor": "white",
           "lakecolor": "white",
           "landcolor": "#E5ECF6",
           "showlakes": true,
           "showland": true,
           "subunitcolor": "white"
          },
          "hoverlabel": {
           "align": "left"
          },
          "hovermode": "closest",
          "mapbox": {
           "style": "light"
          },
          "paper_bgcolor": "white",
          "plot_bgcolor": "#E5ECF6",
          "polar": {
           "angularaxis": {
            "gridcolor": "white",
            "linecolor": "white",
            "ticks": ""
           },
           "bgcolor": "#E5ECF6",
           "radialaxis": {
            "gridcolor": "white",
            "linecolor": "white",
            "ticks": ""
           }
          },
          "scene": {
           "xaxis": {
            "backgroundcolor": "#E5ECF6",
            "gridcolor": "white",
            "gridwidth": 2,
            "linecolor": "white",
            "showbackground": true,
            "ticks": "",
            "zerolinecolor": "white"
           },
           "yaxis": {
            "backgroundcolor": "#E5ECF6",
            "gridcolor": "white",
            "gridwidth": 2,
            "linecolor": "white",
            "showbackground": true,
            "ticks": "",
            "zerolinecolor": "white"
           },
           "zaxis": {
            "backgroundcolor": "#E5ECF6",
            "gridcolor": "white",
            "gridwidth": 2,
            "linecolor": "white",
            "showbackground": true,
            "ticks": "",
            "zerolinecolor": "white"
           }
          },
          "shapedefaults": {
           "line": {
            "color": "#2a3f5f"
           }
          },
          "ternary": {
           "aaxis": {
            "gridcolor": "white",
            "linecolor": "white",
            "ticks": ""
           },
           "baxis": {
            "gridcolor": "white",
            "linecolor": "white",
            "ticks": ""
           },
           "bgcolor": "#E5ECF6",
           "caxis": {
            "gridcolor": "white",
            "linecolor": "white",
            "ticks": ""
           }
          },
          "title": {
           "x": 0.05
          },
          "xaxis": {
           "automargin": true,
           "gridcolor": "white",
           "linecolor": "white",
           "ticks": "",
           "title": {
            "standoff": 15
           },
           "zerolinecolor": "white",
           "zerolinewidth": 2
          },
          "yaxis": {
           "automargin": true,
           "gridcolor": "white",
           "linecolor": "white",
           "ticks": "",
           "title": {
            "standoff": 15
           },
           "zerolinecolor": "white",
           "zerolinewidth": 2
          }
         }
        },
        "title": {
         "text": "Generated vs Original"
        },
        "xaxis": {
         "title": {
          "text": "PC 1"
         }
        },
        "yaxis": {
         "title": {
          "text": "PC 2"
         }
        }
       }
      }
     },
     "metadata": {},
     "output_type": "display_data"
    }
   ],
   "source": [
    "import plotly.express as px\n",
    "import plotly.graph_objects as go\n",
    "from matplotlib import pyplot as plt\n",
    "\n",
    "\n",
    "# plt.figure(figsize=(12, 9))\n",
    "# plt.scatter(x[Vlen:, 0], x[Vlen:, 1], c='w', edgecolors='k', label='original')\n",
    "# plt.scatter(x[:Vlen, 0], x[:Vlen, 1], marker='+', label='generated')\n",
    "# plt.xlabel('PC 1')\n",
    "# plt.ylabel('PC 2')\n",
    "# plt.legend();\n",
    "\n",
    "# scatter plot with plotly\n",
    "fig = go.Figure()\n",
    "fig.add_trace(go.Scatter(x=x[:Vlen, 0], y=x[:Vlen, 1], mode='markers', name='generated'))\n",
    "fig.add_trace(go.Scatter(x=x[Vlen:, 0], y=x[Vlen:, 1], mode='markers', name='original'))\n",
    "fig.update_layout(\n",
    "    title=\"Generated vs Original\",\n",
    "    xaxis_title=\"PC 1\",\n",
    "    yaxis_title=\"PC 2\",\n",
    "    legend_title=\"\",\n",
    ")\n",
    "fig.show()\n"
   ]
  },
  {
   "cell_type": "code",
   "execution_count": 21,
   "metadata": {},
   "outputs": [],
   "source": [
    "props = {\n",
    "    'MW': {\n",
    "        'generated': [Descriptors.MolWt(mol) for mol in pred_mols],\n",
    "        'original': [Descriptors.MolWt(mol) for mol in org_mols]\n",
    "    },\n",
    "    'LogP': {\n",
    "        'generated': [Descriptors.MolLogP(mol) for mol in pred_mols],\n",
    "        'original': [Descriptors.MolLogP(mol) for mol in org_mols]\n",
    "    },\n",
    "}\n"
   ]
  },
  {
   "cell_type": "code",
   "execution_count": 34,
   "metadata": {},
   "outputs": [
    {
     "data": {
      "application/vnd.plotly.v1+json": {
       "config": {
        "plotlyServerURL": "https://plot.ly"
       },
       "data": [
        {
         "box": {
          "visible": true
         },
         "meanline": {
          "visible": true
         },
         "name": "original",
         "type": "violin",
         "x": [
          "original",
          "original",
          "original",
          "original",
          "original",
          "original",
          "original",
          "original",
          "original",
          "original",
          "original",
          "original",
          "original",
          "original",
          "original",
          "original",
          "original",
          "original",
          "original",
          "original",
          "original",
          "original",
          "original",
          "original",
          "original",
          "original",
          "original",
          "original",
          "original",
          "original",
          "original",
          "original",
          "original",
          "original",
          "original",
          "original",
          "original",
          "original",
          "original",
          "original",
          "original",
          "original",
          "original",
          "original",
          "original",
          "original",
          "original",
          "original",
          "original",
          "original",
          "original",
          "original",
          "original",
          "original",
          "original",
          "original",
          "original",
          "original",
          "original"
         ],
         "y": [
          387.4840000000002,
          433.5120000000002,
          449.3340000000002,
          558.7010000000002,
          435.48400000000026,
          305.359,
          443.5320000000001,
          305.16400000000004,
          387.4840000000002,
          408.4620000000003,
          327.77500000000003,
          568.7250000000003,
          297.27599999999995,
          440.58700000000033,
          357.3730000000001,
          358.42300000000006,
          414.52700000000016,
          549.9790000000003,
          365.84200000000004,
          323.8670000000001,
          358.3900000000001,
          401.4380000000002,
          427.50400000000013,
          457.55900000000014,
          439.59900000000033,
          315.37700000000007,
          285.73400000000004,
          266.26,
          407.293,
          442.4830000000001,
          270.24,
          546.5730000000001,
          368.4290000000001,
          553.9920000000002,
          300.44200000000006,
          407.304,
          282.265,
          407.293,
          327.3870000000001,
          332.35900000000004,
          427.46100000000024,
          387.4840000000002,
          365.223,
          437.47500000000025,
          548.6690000000002,
          291.3540000000001,
          299.721,
          326.83100000000013,
          498.5140000000001,
          412.5120000000003,
          310.3190000000001,
          335.3590000000001,
          370.43400000000014,
          327.8190000000001,
          338.161,
          334.853,
          276.33900000000006,
          269.22200000000004,
          333.40900000000005
         ]
        },
        {
         "box": {
          "visible": true
         },
         "meanline": {
          "visible": true
         },
         "name": "generated",
         "type": "violin",
         "x": [
          "generated",
          "generated",
          "generated",
          "generated",
          "generated",
          "generated",
          "generated",
          "generated",
          "generated",
          "generated",
          "generated",
          "generated",
          "generated",
          "generated",
          "generated",
          "generated",
          "generated",
          "generated",
          "generated",
          "generated",
          "generated",
          "generated",
          "generated",
          "generated",
          "generated",
          "generated",
          "generated",
          "generated",
          "generated",
          "generated",
          "generated",
          "generated",
          "generated",
          "generated",
          "generated",
          "generated",
          "generated",
          "generated",
          "generated",
          "generated",
          "generated",
          "generated",
          "generated",
          "generated",
          "generated",
          "generated",
          "generated",
          "generated",
          "generated",
          "generated",
          "generated",
          "generated",
          "generated",
          "generated",
          "generated",
          "generated",
          "generated",
          "generated",
          "generated"
         ],
         "y": [
          465.5430000000003,
          385.4230000000001,
          326.83100000000013,
          502.57500000000016,
          354.3700000000001,
          314.38900000000007,
          383.42600000000004,
          581.5820000000004,
          343.39000000000004,
          281.27500000000003,
          456.7110000000003,
          338.333,
          451.5270000000002,
          296.292,
          316.40700000000004,
          421.50100000000026,
          519.6670000000005,
          374.48700000000014,
          392.86800000000017,
          420.3320000000002,
          425.4000000000001,
          271.276,
          377.4120000000001,
          305.72100000000006,
          413.47700000000015,
          295.33500000000004,
          435.52800000000025,
          387.226,
          454.6110000000002,
          344.41500000000013,
          401.4670000000002,
          344.461,
          515.6970000000003,
          376.86900000000014,
          386.4200000000001,
          273.38399999999996,
          392.2530000000001,
          283.24899999999997,
          323.40000000000003,
          443.53200000000015,
          394.487,
          315.716,
          280.36699999999996,
          327.356,
          475.54900000000015,
          475.6140000000004,
          324.8550000000001,
          290.322,
          440.58700000000033,
          282.34299999999996,
          421.5010000000002,
          468.60400000000016,
          397.4470000000001,
          586.7990000000004,
          282.296,
          377.4120000000001,
          370.36400000000003,
          371.4150000000001,
          312.84400000000005
         ]
        }
       ],
       "layout": {
        "legend": {
         "title": {
          "text": ""
         }
        },
        "template": {
         "data": {
          "bar": [
           {
            "error_x": {
             "color": "#2a3f5f"
            },
            "error_y": {
             "color": "#2a3f5f"
            },
            "marker": {
             "line": {
              "color": "#E5ECF6",
              "width": 0.5
             },
             "pattern": {
              "fillmode": "overlay",
              "size": 10,
              "solidity": 0.2
             }
            },
            "type": "bar"
           }
          ],
          "barpolar": [
           {
            "marker": {
             "line": {
              "color": "#E5ECF6",
              "width": 0.5
             },
             "pattern": {
              "fillmode": "overlay",
              "size": 10,
              "solidity": 0.2
             }
            },
            "type": "barpolar"
           }
          ],
          "carpet": [
           {
            "aaxis": {
             "endlinecolor": "#2a3f5f",
             "gridcolor": "white",
             "linecolor": "white",
             "minorgridcolor": "white",
             "startlinecolor": "#2a3f5f"
            },
            "baxis": {
             "endlinecolor": "#2a3f5f",
             "gridcolor": "white",
             "linecolor": "white",
             "minorgridcolor": "white",
             "startlinecolor": "#2a3f5f"
            },
            "type": "carpet"
           }
          ],
          "choropleth": [
           {
            "colorbar": {
             "outlinewidth": 0,
             "ticks": ""
            },
            "type": "choropleth"
           }
          ],
          "contour": [
           {
            "colorbar": {
             "outlinewidth": 0,
             "ticks": ""
            },
            "colorscale": [
             [
              0,
              "#0d0887"
             ],
             [
              0.1111111111111111,
              "#46039f"
             ],
             [
              0.2222222222222222,
              "#7201a8"
             ],
             [
              0.3333333333333333,
              "#9c179e"
             ],
             [
              0.4444444444444444,
              "#bd3786"
             ],
             [
              0.5555555555555556,
              "#d8576b"
             ],
             [
              0.6666666666666666,
              "#ed7953"
             ],
             [
              0.7777777777777778,
              "#fb9f3a"
             ],
             [
              0.8888888888888888,
              "#fdca26"
             ],
             [
              1,
              "#f0f921"
             ]
            ],
            "type": "contour"
           }
          ],
          "contourcarpet": [
           {
            "colorbar": {
             "outlinewidth": 0,
             "ticks": ""
            },
            "type": "contourcarpet"
           }
          ],
          "heatmap": [
           {
            "colorbar": {
             "outlinewidth": 0,
             "ticks": ""
            },
            "colorscale": [
             [
              0,
              "#0d0887"
             ],
             [
              0.1111111111111111,
              "#46039f"
             ],
             [
              0.2222222222222222,
              "#7201a8"
             ],
             [
              0.3333333333333333,
              "#9c179e"
             ],
             [
              0.4444444444444444,
              "#bd3786"
             ],
             [
              0.5555555555555556,
              "#d8576b"
             ],
             [
              0.6666666666666666,
              "#ed7953"
             ],
             [
              0.7777777777777778,
              "#fb9f3a"
             ],
             [
              0.8888888888888888,
              "#fdca26"
             ],
             [
              1,
              "#f0f921"
             ]
            ],
            "type": "heatmap"
           }
          ],
          "heatmapgl": [
           {
            "colorbar": {
             "outlinewidth": 0,
             "ticks": ""
            },
            "colorscale": [
             [
              0,
              "#0d0887"
             ],
             [
              0.1111111111111111,
              "#46039f"
             ],
             [
              0.2222222222222222,
              "#7201a8"
             ],
             [
              0.3333333333333333,
              "#9c179e"
             ],
             [
              0.4444444444444444,
              "#bd3786"
             ],
             [
              0.5555555555555556,
              "#d8576b"
             ],
             [
              0.6666666666666666,
              "#ed7953"
             ],
             [
              0.7777777777777778,
              "#fb9f3a"
             ],
             [
              0.8888888888888888,
              "#fdca26"
             ],
             [
              1,
              "#f0f921"
             ]
            ],
            "type": "heatmapgl"
           }
          ],
          "histogram": [
           {
            "marker": {
             "pattern": {
              "fillmode": "overlay",
              "size": 10,
              "solidity": 0.2
             }
            },
            "type": "histogram"
           }
          ],
          "histogram2d": [
           {
            "colorbar": {
             "outlinewidth": 0,
             "ticks": ""
            },
            "colorscale": [
             [
              0,
              "#0d0887"
             ],
             [
              0.1111111111111111,
              "#46039f"
             ],
             [
              0.2222222222222222,
              "#7201a8"
             ],
             [
              0.3333333333333333,
              "#9c179e"
             ],
             [
              0.4444444444444444,
              "#bd3786"
             ],
             [
              0.5555555555555556,
              "#d8576b"
             ],
             [
              0.6666666666666666,
              "#ed7953"
             ],
             [
              0.7777777777777778,
              "#fb9f3a"
             ],
             [
              0.8888888888888888,
              "#fdca26"
             ],
             [
              1,
              "#f0f921"
             ]
            ],
            "type": "histogram2d"
           }
          ],
          "histogram2dcontour": [
           {
            "colorbar": {
             "outlinewidth": 0,
             "ticks": ""
            },
            "colorscale": [
             [
              0,
              "#0d0887"
             ],
             [
              0.1111111111111111,
              "#46039f"
             ],
             [
              0.2222222222222222,
              "#7201a8"
             ],
             [
              0.3333333333333333,
              "#9c179e"
             ],
             [
              0.4444444444444444,
              "#bd3786"
             ],
             [
              0.5555555555555556,
              "#d8576b"
             ],
             [
              0.6666666666666666,
              "#ed7953"
             ],
             [
              0.7777777777777778,
              "#fb9f3a"
             ],
             [
              0.8888888888888888,
              "#fdca26"
             ],
             [
              1,
              "#f0f921"
             ]
            ],
            "type": "histogram2dcontour"
           }
          ],
          "mesh3d": [
           {
            "colorbar": {
             "outlinewidth": 0,
             "ticks": ""
            },
            "type": "mesh3d"
           }
          ],
          "parcoords": [
           {
            "line": {
             "colorbar": {
              "outlinewidth": 0,
              "ticks": ""
             }
            },
            "type": "parcoords"
           }
          ],
          "pie": [
           {
            "automargin": true,
            "type": "pie"
           }
          ],
          "scatter": [
           {
            "fillpattern": {
             "fillmode": "overlay",
             "size": 10,
             "solidity": 0.2
            },
            "type": "scatter"
           }
          ],
          "scatter3d": [
           {
            "line": {
             "colorbar": {
              "outlinewidth": 0,
              "ticks": ""
             }
            },
            "marker": {
             "colorbar": {
              "outlinewidth": 0,
              "ticks": ""
             }
            },
            "type": "scatter3d"
           }
          ],
          "scattercarpet": [
           {
            "marker": {
             "colorbar": {
              "outlinewidth": 0,
              "ticks": ""
             }
            },
            "type": "scattercarpet"
           }
          ],
          "scattergeo": [
           {
            "marker": {
             "colorbar": {
              "outlinewidth": 0,
              "ticks": ""
             }
            },
            "type": "scattergeo"
           }
          ],
          "scattergl": [
           {
            "marker": {
             "colorbar": {
              "outlinewidth": 0,
              "ticks": ""
             }
            },
            "type": "scattergl"
           }
          ],
          "scattermapbox": [
           {
            "marker": {
             "colorbar": {
              "outlinewidth": 0,
              "ticks": ""
             }
            },
            "type": "scattermapbox"
           }
          ],
          "scatterpolar": [
           {
            "marker": {
             "colorbar": {
              "outlinewidth": 0,
              "ticks": ""
             }
            },
            "type": "scatterpolar"
           }
          ],
          "scatterpolargl": [
           {
            "marker": {
             "colorbar": {
              "outlinewidth": 0,
              "ticks": ""
             }
            },
            "type": "scatterpolargl"
           }
          ],
          "scatterternary": [
           {
            "marker": {
             "colorbar": {
              "outlinewidth": 0,
              "ticks": ""
             }
            },
            "type": "scatterternary"
           }
          ],
          "surface": [
           {
            "colorbar": {
             "outlinewidth": 0,
             "ticks": ""
            },
            "colorscale": [
             [
              0,
              "#0d0887"
             ],
             [
              0.1111111111111111,
              "#46039f"
             ],
             [
              0.2222222222222222,
              "#7201a8"
             ],
             [
              0.3333333333333333,
              "#9c179e"
             ],
             [
              0.4444444444444444,
              "#bd3786"
             ],
             [
              0.5555555555555556,
              "#d8576b"
             ],
             [
              0.6666666666666666,
              "#ed7953"
             ],
             [
              0.7777777777777778,
              "#fb9f3a"
             ],
             [
              0.8888888888888888,
              "#fdca26"
             ],
             [
              1,
              "#f0f921"
             ]
            ],
            "type": "surface"
           }
          ],
          "table": [
           {
            "cells": {
             "fill": {
              "color": "#EBF0F8"
             },
             "line": {
              "color": "white"
             }
            },
            "header": {
             "fill": {
              "color": "#C8D4E3"
             },
             "line": {
              "color": "white"
             }
            },
            "type": "table"
           }
          ]
         },
         "layout": {
          "annotationdefaults": {
           "arrowcolor": "#2a3f5f",
           "arrowhead": 0,
           "arrowwidth": 1
          },
          "autotypenumbers": "strict",
          "coloraxis": {
           "colorbar": {
            "outlinewidth": 0,
            "ticks": ""
           }
          },
          "colorscale": {
           "diverging": [
            [
             0,
             "#8e0152"
            ],
            [
             0.1,
             "#c51b7d"
            ],
            [
             0.2,
             "#de77ae"
            ],
            [
             0.3,
             "#f1b6da"
            ],
            [
             0.4,
             "#fde0ef"
            ],
            [
             0.5,
             "#f7f7f7"
            ],
            [
             0.6,
             "#e6f5d0"
            ],
            [
             0.7,
             "#b8e186"
            ],
            [
             0.8,
             "#7fbc41"
            ],
            [
             0.9,
             "#4d9221"
            ],
            [
             1,
             "#276419"
            ]
           ],
           "sequential": [
            [
             0,
             "#0d0887"
            ],
            [
             0.1111111111111111,
             "#46039f"
            ],
            [
             0.2222222222222222,
             "#7201a8"
            ],
            [
             0.3333333333333333,
             "#9c179e"
            ],
            [
             0.4444444444444444,
             "#bd3786"
            ],
            [
             0.5555555555555556,
             "#d8576b"
            ],
            [
             0.6666666666666666,
             "#ed7953"
            ],
            [
             0.7777777777777778,
             "#fb9f3a"
            ],
            [
             0.8888888888888888,
             "#fdca26"
            ],
            [
             1,
             "#f0f921"
            ]
           ],
           "sequentialminus": [
            [
             0,
             "#0d0887"
            ],
            [
             0.1111111111111111,
             "#46039f"
            ],
            [
             0.2222222222222222,
             "#7201a8"
            ],
            [
             0.3333333333333333,
             "#9c179e"
            ],
            [
             0.4444444444444444,
             "#bd3786"
            ],
            [
             0.5555555555555556,
             "#d8576b"
            ],
            [
             0.6666666666666666,
             "#ed7953"
            ],
            [
             0.7777777777777778,
             "#fb9f3a"
            ],
            [
             0.8888888888888888,
             "#fdca26"
            ],
            [
             1,
             "#f0f921"
            ]
           ]
          },
          "colorway": [
           "#636efa",
           "#EF553B",
           "#00cc96",
           "#ab63fa",
           "#FFA15A",
           "#19d3f3",
           "#FF6692",
           "#B6E880",
           "#FF97FF",
           "#FECB52"
          ],
          "font": {
           "color": "#2a3f5f"
          },
          "geo": {
           "bgcolor": "white",
           "lakecolor": "white",
           "landcolor": "#E5ECF6",
           "showlakes": true,
           "showland": true,
           "subunitcolor": "white"
          },
          "hoverlabel": {
           "align": "left"
          },
          "hovermode": "closest",
          "mapbox": {
           "style": "light"
          },
          "paper_bgcolor": "white",
          "plot_bgcolor": "#E5ECF6",
          "polar": {
           "angularaxis": {
            "gridcolor": "white",
            "linecolor": "white",
            "ticks": ""
           },
           "bgcolor": "#E5ECF6",
           "radialaxis": {
            "gridcolor": "white",
            "linecolor": "white",
            "ticks": ""
           }
          },
          "scene": {
           "xaxis": {
            "backgroundcolor": "#E5ECF6",
            "gridcolor": "white",
            "gridwidth": 2,
            "linecolor": "white",
            "showbackground": true,
            "ticks": "",
            "zerolinecolor": "white"
           },
           "yaxis": {
            "backgroundcolor": "#E5ECF6",
            "gridcolor": "white",
            "gridwidth": 2,
            "linecolor": "white",
            "showbackground": true,
            "ticks": "",
            "zerolinecolor": "white"
           },
           "zaxis": {
            "backgroundcolor": "#E5ECF6",
            "gridcolor": "white",
            "gridwidth": 2,
            "linecolor": "white",
            "showbackground": true,
            "ticks": "",
            "zerolinecolor": "white"
           }
          },
          "shapedefaults": {
           "line": {
            "color": "#2a3f5f"
           }
          },
          "ternary": {
           "aaxis": {
            "gridcolor": "white",
            "linecolor": "white",
            "ticks": ""
           },
           "baxis": {
            "gridcolor": "white",
            "linecolor": "white",
            "ticks": ""
           },
           "bgcolor": "#E5ECF6",
           "caxis": {
            "gridcolor": "white",
            "linecolor": "white",
            "ticks": ""
           }
          },
          "title": {
           "x": 0.05
          },
          "xaxis": {
           "automargin": true,
           "gridcolor": "white",
           "linecolor": "white",
           "ticks": "",
           "title": {
            "standoff": 15
           },
           "zerolinecolor": "white",
           "zerolinewidth": 2
          },
          "yaxis": {
           "automargin": true,
           "gridcolor": "white",
           "linecolor": "white",
           "ticks": "",
           "title": {
            "standoff": 15
           },
           "zerolinecolor": "white",
           "zerolinewidth": 2
          }
         }
        },
        "title": {
         "text": "MW generated vs original"
        },
        "xaxis": {
         "title": {
          "text": ""
         }
        },
        "yaxis": {
         "title": {
          "text": ""
         }
        }
       }
      }
     },
     "metadata": {},
     "output_type": "display_data"
    },
    {
     "data": {
      "application/vnd.plotly.v1+json": {
       "config": {
        "plotlyServerURL": "https://plot.ly"
       },
       "data": [
        {
         "box": {
          "visible": true
         },
         "meanline": {
          "visible": true
         },
         "name": "original",
         "type": "violin",
         "x": [
          "original",
          "original",
          "original",
          "original",
          "original",
          "original",
          "original",
          "original",
          "original",
          "original",
          "original",
          "original",
          "original",
          "original",
          "original",
          "original",
          "original",
          "original",
          "original",
          "original",
          "original",
          "original",
          "original",
          "original",
          "original",
          "original",
          "original",
          "original",
          "original",
          "original",
          "original",
          "original",
          "original",
          "original",
          "original",
          "original",
          "original",
          "original",
          "original",
          "original",
          "original",
          "original",
          "original",
          "original",
          "original",
          "original",
          "original",
          "original",
          "original",
          "original",
          "original",
          "original",
          "original",
          "original",
          "original",
          "original",
          "original",
          "original",
          "original"
         ],
         "y": [
          2.3618999999999994,
          2.6815000000000007,
          5.289200000000005,
          3.2814000000000005,
          2.017899999999999,
          2.0862,
          3.6701200000000016,
          0.2882000000000006,
          2.313999999999999,
          2.5833000000000004,
          4.011200000000003,
          1.8938700000000028,
          3.948500000000003,
          5.675400000000006,
          3.6987000000000023,
          2.5052000000000003,
          3.368500000000002,
          1.487,
          2.0834,
          5.126600000000004,
          2.890500000000001,
          2.3705000000000007,
          3.8628000000000027,
          3.7169700000000017,
          6.280400000000006,
          1.2164999999999997,
          -0.7829999999999995,
          1.8412,
          3.259100000000001,
          2.6509,
          2.576800000000001,
          0.8686700000000004,
          4.529400000000004,
          1.8201999999999998,
          5.602600000000005,
          1.4701999999999997,
          3.7058000000000018,
          3.259100000000001,
          0.7169999999999999,
          4.195600000000002,
          1.1631999999999996,
          2.3618999999999994,
          0.2998999999999999,
          2.7303000000000006,
          2.0188700000000024,
          3.636000000000002,
          3.2326000000000024,
          3.7227000000000023,
          3.9784200000000025,
          3.517500000000002,
          4.3419000000000025,
          2.9738000000000016,
          3.1475000000000017,
          2.704900000000001,
          1.5978999999999994,
          4.340900000000001,
          3.850900000000002,
          3.169900000000001,
          3.266600000000002
         ]
        },
        {
         "box": {
          "visible": true
         },
         "meanline": {
          "visible": true
         },
         "name": "generated",
         "type": "violin",
         "x": [
          "generated",
          "generated",
          "generated",
          "generated",
          "generated",
          "generated",
          "generated",
          "generated",
          "generated",
          "generated",
          "generated",
          "generated",
          "generated",
          "generated",
          "generated",
          "generated",
          "generated",
          "generated",
          "generated",
          "generated",
          "generated",
          "generated",
          "generated",
          "generated",
          "generated",
          "generated",
          "generated",
          "generated",
          "generated",
          "generated",
          "generated",
          "generated",
          "generated",
          "generated",
          "generated",
          "generated",
          "generated",
          "generated",
          "generated",
          "generated",
          "generated",
          "generated",
          "generated",
          "generated",
          "generated",
          "generated",
          "generated",
          "generated",
          "generated",
          "generated",
          "generated",
          "generated",
          "generated",
          "generated",
          "generated",
          "generated",
          "generated",
          "generated",
          "generated"
         ],
         "y": [
          3.9105000000000025,
          2.692500000000001,
          3.3099000000000016,
          4.4745000000000035,
          3.355000000000002,
          2.0058,
          -0.04539999999999916,
          8.941300000000004,
          3.1286000000000014,
          2.1282999999999994,
          7.089500000000009,
          2.887200000000001,
          2.6408000000000005,
          4.266800000000002,
          3.5550000000000015,
          2.7620000000000005,
          4.379800000000004,
          2.8389200000000008,
          3.1586000000000016,
          4.172520000000002,
          5.007600000000003,
          1.2445,
          2.1929,
          1.8979,
          3.4727000000000015,
          1.3211,
          2.804500000000001,
          4.908600000000002,
          5.093080000000005,
          2.0144,
          1.3044000000000002,
          4.389320000000003,
          7.947400000000009,
          3.458420000000002,
          1.0842,
          2.1696,
          3.1757000000000017,
          4.087500000000002,
          2.4511000000000003,
          3.3268700000000013,
          2.4081,
          3.037700000000001,
          4.863800000000005,
          0.3799,
          4.117640000000002,
          3.9117000000000033,
          3.9897000000000036,
          3.8888000000000016,
          5.675400000000006,
          3.787300000000002,
          2.5106,
          5.496000000000004,
          0.7534000000000011,
          3.7191000000000027,
          1.1104999999999998,
          2.1929,
          4.692400000000003,
          0.15810000000000046,
          3.7740000000000027
         ]
        }
       ],
       "layout": {
        "legend": {
         "title": {
          "text": ""
         }
        },
        "template": {
         "data": {
          "bar": [
           {
            "error_x": {
             "color": "#2a3f5f"
            },
            "error_y": {
             "color": "#2a3f5f"
            },
            "marker": {
             "line": {
              "color": "#E5ECF6",
              "width": 0.5
             },
             "pattern": {
              "fillmode": "overlay",
              "size": 10,
              "solidity": 0.2
             }
            },
            "type": "bar"
           }
          ],
          "barpolar": [
           {
            "marker": {
             "line": {
              "color": "#E5ECF6",
              "width": 0.5
             },
             "pattern": {
              "fillmode": "overlay",
              "size": 10,
              "solidity": 0.2
             }
            },
            "type": "barpolar"
           }
          ],
          "carpet": [
           {
            "aaxis": {
             "endlinecolor": "#2a3f5f",
             "gridcolor": "white",
             "linecolor": "white",
             "minorgridcolor": "white",
             "startlinecolor": "#2a3f5f"
            },
            "baxis": {
             "endlinecolor": "#2a3f5f",
             "gridcolor": "white",
             "linecolor": "white",
             "minorgridcolor": "white",
             "startlinecolor": "#2a3f5f"
            },
            "type": "carpet"
           }
          ],
          "choropleth": [
           {
            "colorbar": {
             "outlinewidth": 0,
             "ticks": ""
            },
            "type": "choropleth"
           }
          ],
          "contour": [
           {
            "colorbar": {
             "outlinewidth": 0,
             "ticks": ""
            },
            "colorscale": [
             [
              0,
              "#0d0887"
             ],
             [
              0.1111111111111111,
              "#46039f"
             ],
             [
              0.2222222222222222,
              "#7201a8"
             ],
             [
              0.3333333333333333,
              "#9c179e"
             ],
             [
              0.4444444444444444,
              "#bd3786"
             ],
             [
              0.5555555555555556,
              "#d8576b"
             ],
             [
              0.6666666666666666,
              "#ed7953"
             ],
             [
              0.7777777777777778,
              "#fb9f3a"
             ],
             [
              0.8888888888888888,
              "#fdca26"
             ],
             [
              1,
              "#f0f921"
             ]
            ],
            "type": "contour"
           }
          ],
          "contourcarpet": [
           {
            "colorbar": {
             "outlinewidth": 0,
             "ticks": ""
            },
            "type": "contourcarpet"
           }
          ],
          "heatmap": [
           {
            "colorbar": {
             "outlinewidth": 0,
             "ticks": ""
            },
            "colorscale": [
             [
              0,
              "#0d0887"
             ],
             [
              0.1111111111111111,
              "#46039f"
             ],
             [
              0.2222222222222222,
              "#7201a8"
             ],
             [
              0.3333333333333333,
              "#9c179e"
             ],
             [
              0.4444444444444444,
              "#bd3786"
             ],
             [
              0.5555555555555556,
              "#d8576b"
             ],
             [
              0.6666666666666666,
              "#ed7953"
             ],
             [
              0.7777777777777778,
              "#fb9f3a"
             ],
             [
              0.8888888888888888,
              "#fdca26"
             ],
             [
              1,
              "#f0f921"
             ]
            ],
            "type": "heatmap"
           }
          ],
          "heatmapgl": [
           {
            "colorbar": {
             "outlinewidth": 0,
             "ticks": ""
            },
            "colorscale": [
             [
              0,
              "#0d0887"
             ],
             [
              0.1111111111111111,
              "#46039f"
             ],
             [
              0.2222222222222222,
              "#7201a8"
             ],
             [
              0.3333333333333333,
              "#9c179e"
             ],
             [
              0.4444444444444444,
              "#bd3786"
             ],
             [
              0.5555555555555556,
              "#d8576b"
             ],
             [
              0.6666666666666666,
              "#ed7953"
             ],
             [
              0.7777777777777778,
              "#fb9f3a"
             ],
             [
              0.8888888888888888,
              "#fdca26"
             ],
             [
              1,
              "#f0f921"
             ]
            ],
            "type": "heatmapgl"
           }
          ],
          "histogram": [
           {
            "marker": {
             "pattern": {
              "fillmode": "overlay",
              "size": 10,
              "solidity": 0.2
             }
            },
            "type": "histogram"
           }
          ],
          "histogram2d": [
           {
            "colorbar": {
             "outlinewidth": 0,
             "ticks": ""
            },
            "colorscale": [
             [
              0,
              "#0d0887"
             ],
             [
              0.1111111111111111,
              "#46039f"
             ],
             [
              0.2222222222222222,
              "#7201a8"
             ],
             [
              0.3333333333333333,
              "#9c179e"
             ],
             [
              0.4444444444444444,
              "#bd3786"
             ],
             [
              0.5555555555555556,
              "#d8576b"
             ],
             [
              0.6666666666666666,
              "#ed7953"
             ],
             [
              0.7777777777777778,
              "#fb9f3a"
             ],
             [
              0.8888888888888888,
              "#fdca26"
             ],
             [
              1,
              "#f0f921"
             ]
            ],
            "type": "histogram2d"
           }
          ],
          "histogram2dcontour": [
           {
            "colorbar": {
             "outlinewidth": 0,
             "ticks": ""
            },
            "colorscale": [
             [
              0,
              "#0d0887"
             ],
             [
              0.1111111111111111,
              "#46039f"
             ],
             [
              0.2222222222222222,
              "#7201a8"
             ],
             [
              0.3333333333333333,
              "#9c179e"
             ],
             [
              0.4444444444444444,
              "#bd3786"
             ],
             [
              0.5555555555555556,
              "#d8576b"
             ],
             [
              0.6666666666666666,
              "#ed7953"
             ],
             [
              0.7777777777777778,
              "#fb9f3a"
             ],
             [
              0.8888888888888888,
              "#fdca26"
             ],
             [
              1,
              "#f0f921"
             ]
            ],
            "type": "histogram2dcontour"
           }
          ],
          "mesh3d": [
           {
            "colorbar": {
             "outlinewidth": 0,
             "ticks": ""
            },
            "type": "mesh3d"
           }
          ],
          "parcoords": [
           {
            "line": {
             "colorbar": {
              "outlinewidth": 0,
              "ticks": ""
             }
            },
            "type": "parcoords"
           }
          ],
          "pie": [
           {
            "automargin": true,
            "type": "pie"
           }
          ],
          "scatter": [
           {
            "fillpattern": {
             "fillmode": "overlay",
             "size": 10,
             "solidity": 0.2
            },
            "type": "scatter"
           }
          ],
          "scatter3d": [
           {
            "line": {
             "colorbar": {
              "outlinewidth": 0,
              "ticks": ""
             }
            },
            "marker": {
             "colorbar": {
              "outlinewidth": 0,
              "ticks": ""
             }
            },
            "type": "scatter3d"
           }
          ],
          "scattercarpet": [
           {
            "marker": {
             "colorbar": {
              "outlinewidth": 0,
              "ticks": ""
             }
            },
            "type": "scattercarpet"
           }
          ],
          "scattergeo": [
           {
            "marker": {
             "colorbar": {
              "outlinewidth": 0,
              "ticks": ""
             }
            },
            "type": "scattergeo"
           }
          ],
          "scattergl": [
           {
            "marker": {
             "colorbar": {
              "outlinewidth": 0,
              "ticks": ""
             }
            },
            "type": "scattergl"
           }
          ],
          "scattermapbox": [
           {
            "marker": {
             "colorbar": {
              "outlinewidth": 0,
              "ticks": ""
             }
            },
            "type": "scattermapbox"
           }
          ],
          "scatterpolar": [
           {
            "marker": {
             "colorbar": {
              "outlinewidth": 0,
              "ticks": ""
             }
            },
            "type": "scatterpolar"
           }
          ],
          "scatterpolargl": [
           {
            "marker": {
             "colorbar": {
              "outlinewidth": 0,
              "ticks": ""
             }
            },
            "type": "scatterpolargl"
           }
          ],
          "scatterternary": [
           {
            "marker": {
             "colorbar": {
              "outlinewidth": 0,
              "ticks": ""
             }
            },
            "type": "scatterternary"
           }
          ],
          "surface": [
           {
            "colorbar": {
             "outlinewidth": 0,
             "ticks": ""
            },
            "colorscale": [
             [
              0,
              "#0d0887"
             ],
             [
              0.1111111111111111,
              "#46039f"
             ],
             [
              0.2222222222222222,
              "#7201a8"
             ],
             [
              0.3333333333333333,
              "#9c179e"
             ],
             [
              0.4444444444444444,
              "#bd3786"
             ],
             [
              0.5555555555555556,
              "#d8576b"
             ],
             [
              0.6666666666666666,
              "#ed7953"
             ],
             [
              0.7777777777777778,
              "#fb9f3a"
             ],
             [
              0.8888888888888888,
              "#fdca26"
             ],
             [
              1,
              "#f0f921"
             ]
            ],
            "type": "surface"
           }
          ],
          "table": [
           {
            "cells": {
             "fill": {
              "color": "#EBF0F8"
             },
             "line": {
              "color": "white"
             }
            },
            "header": {
             "fill": {
              "color": "#C8D4E3"
             },
             "line": {
              "color": "white"
             }
            },
            "type": "table"
           }
          ]
         },
         "layout": {
          "annotationdefaults": {
           "arrowcolor": "#2a3f5f",
           "arrowhead": 0,
           "arrowwidth": 1
          },
          "autotypenumbers": "strict",
          "coloraxis": {
           "colorbar": {
            "outlinewidth": 0,
            "ticks": ""
           }
          },
          "colorscale": {
           "diverging": [
            [
             0,
             "#8e0152"
            ],
            [
             0.1,
             "#c51b7d"
            ],
            [
             0.2,
             "#de77ae"
            ],
            [
             0.3,
             "#f1b6da"
            ],
            [
             0.4,
             "#fde0ef"
            ],
            [
             0.5,
             "#f7f7f7"
            ],
            [
             0.6,
             "#e6f5d0"
            ],
            [
             0.7,
             "#b8e186"
            ],
            [
             0.8,
             "#7fbc41"
            ],
            [
             0.9,
             "#4d9221"
            ],
            [
             1,
             "#276419"
            ]
           ],
           "sequential": [
            [
             0,
             "#0d0887"
            ],
            [
             0.1111111111111111,
             "#46039f"
            ],
            [
             0.2222222222222222,
             "#7201a8"
            ],
            [
             0.3333333333333333,
             "#9c179e"
            ],
            [
             0.4444444444444444,
             "#bd3786"
            ],
            [
             0.5555555555555556,
             "#d8576b"
            ],
            [
             0.6666666666666666,
             "#ed7953"
            ],
            [
             0.7777777777777778,
             "#fb9f3a"
            ],
            [
             0.8888888888888888,
             "#fdca26"
            ],
            [
             1,
             "#f0f921"
            ]
           ],
           "sequentialminus": [
            [
             0,
             "#0d0887"
            ],
            [
             0.1111111111111111,
             "#46039f"
            ],
            [
             0.2222222222222222,
             "#7201a8"
            ],
            [
             0.3333333333333333,
             "#9c179e"
            ],
            [
             0.4444444444444444,
             "#bd3786"
            ],
            [
             0.5555555555555556,
             "#d8576b"
            ],
            [
             0.6666666666666666,
             "#ed7953"
            ],
            [
             0.7777777777777778,
             "#fb9f3a"
            ],
            [
             0.8888888888888888,
             "#fdca26"
            ],
            [
             1,
             "#f0f921"
            ]
           ]
          },
          "colorway": [
           "#636efa",
           "#EF553B",
           "#00cc96",
           "#ab63fa",
           "#FFA15A",
           "#19d3f3",
           "#FF6692",
           "#B6E880",
           "#FF97FF",
           "#FECB52"
          ],
          "font": {
           "color": "#2a3f5f"
          },
          "geo": {
           "bgcolor": "white",
           "lakecolor": "white",
           "landcolor": "#E5ECF6",
           "showlakes": true,
           "showland": true,
           "subunitcolor": "white"
          },
          "hoverlabel": {
           "align": "left"
          },
          "hovermode": "closest",
          "mapbox": {
           "style": "light"
          },
          "paper_bgcolor": "white",
          "plot_bgcolor": "#E5ECF6",
          "polar": {
           "angularaxis": {
            "gridcolor": "white",
            "linecolor": "white",
            "ticks": ""
           },
           "bgcolor": "#E5ECF6",
           "radialaxis": {
            "gridcolor": "white",
            "linecolor": "white",
            "ticks": ""
           }
          },
          "scene": {
           "xaxis": {
            "backgroundcolor": "#E5ECF6",
            "gridcolor": "white",
            "gridwidth": 2,
            "linecolor": "white",
            "showbackground": true,
            "ticks": "",
            "zerolinecolor": "white"
           },
           "yaxis": {
            "backgroundcolor": "#E5ECF6",
            "gridcolor": "white",
            "gridwidth": 2,
            "linecolor": "white",
            "showbackground": true,
            "ticks": "",
            "zerolinecolor": "white"
           },
           "zaxis": {
            "backgroundcolor": "#E5ECF6",
            "gridcolor": "white",
            "gridwidth": 2,
            "linecolor": "white",
            "showbackground": true,
            "ticks": "",
            "zerolinecolor": "white"
           }
          },
          "shapedefaults": {
           "line": {
            "color": "#2a3f5f"
           }
          },
          "ternary": {
           "aaxis": {
            "gridcolor": "white",
            "linecolor": "white",
            "ticks": ""
           },
           "baxis": {
            "gridcolor": "white",
            "linecolor": "white",
            "ticks": ""
           },
           "bgcolor": "#E5ECF6",
           "caxis": {
            "gridcolor": "white",
            "linecolor": "white",
            "ticks": ""
           }
          },
          "title": {
           "x": 0.05
          },
          "xaxis": {
           "automargin": true,
           "gridcolor": "white",
           "linecolor": "white",
           "ticks": "",
           "title": {
            "standoff": 15
           },
           "zerolinecolor": "white",
           "zerolinewidth": 2
          },
          "yaxis": {
           "automargin": true,
           "gridcolor": "white",
           "linecolor": "white",
           "ticks": "",
           "title": {
            "standoff": 15
           },
           "zerolinecolor": "white",
           "zerolinewidth": 2
          }
         }
        },
        "title": {
         "text": "LogP generated vs original"
        },
        "xaxis": {
         "title": {
          "text": ""
         }
        },
        "yaxis": {
         "title": {
          "text": ""
         }
        }
       }
      }
     },
     "metadata": {},
     "output_type": "display_data"
    }
   ],
   "source": [
    "# fig1 = plt.figure(figsize=(12, 6))\n",
    "\n",
    "# ax1 = fig1.add_subplot(1, 2, 1)\n",
    "# ax1.violinplot([props['MW']['original'], props['MW']['generated']])\n",
    "# ax1.set_xticks(ticks=[1, 2])\n",
    "# ax1.set_xticklabels(labels=['original', 'generated'])\n",
    "# ax1.set_title('MW')\n",
    "\n",
    "# ax2 = fig1.add_subplot(1, 2, 2)\n",
    "# ax2.violinplot([props['LogP']['original'], props['LogP']['generated']])\n",
    "# ax2.set_xticks(ticks=[1, 2])\n",
    "# ax2.set_xticklabels(labels=['original', 'generated'])\n",
    "# ax2.set_title('cLogP')\n",
    "\n",
    "# plt.tight_layout()\n",
    "\n",
    "# plot violin with plotly MW generated vs original\n",
    "fig2 = go.Figure()\n",
    "fig2.add_trace(go.Violin(x=['original'] * len(props['MW']['original']), y=props['MW']['original'], name='original', box_visible=True, meanline_visible=True))\n",
    "fig2.add_trace(go.Violin(x=['generated'] * len(props['MW']['generated']), y=props['MW']['generated'], name='generated', box_visible=True, meanline_visible=True))\n",
    "fig2.update_layout(\n",
    "    title=\"MW generated vs original\",\n",
    "    xaxis_title=\"\",\n",
    "    yaxis_title=\"\",\n",
    "    legend_title=\"\",\n",
    ")\n",
    "fig2.show()\n",
    "\n",
    "# plot violin with plotly LogP generated vs original\n",
    "fig3 = go.Figure()\n",
    "fig3.add_trace(go.Violin(x=['original'] * len(props['LogP']['original']), y=props['LogP']['original'], name='original', box_visible=True, meanline_visible=True))\n",
    "fig3.add_trace(go.Violin(x=['generated'] * len(props['LogP']['generated']), y=props['LogP']['generated'], name='generated', box_visible=True, meanline_visible=True))\n",
    "fig3.update_layout(\n",
    "    title=\"LogP generated vs original\",\n",
    "    xaxis_title=\"\",\n",
    "    yaxis_title=\"\",\n",
    "    legend_title=\"\",\n",
    ")\n",
    "fig3.show()\n"
   ]
  }
 ],
 "metadata": {
  "kernelspec": {
   "display_name": "drug_design",
   "language": "python",
   "name": "python3"
  },
  "language_info": {
   "codemirror_mode": {
    "name": "ipython",
    "version": 3
   },
   "file_extension": ".py",
   "mimetype": "text/x-python",
   "name": "python",
   "nbconvert_exporter": "python",
   "pygments_lexer": "ipython3",
   "version": "3.10.8"
  },
  "orig_nbformat": 4,
  "vscode": {
   "interpreter": {
    "hash": "53fed40703b6c09cebfe81e1ed5c1c79add52b4229396e44a1c31ba61295715d"
   }
  }
 },
 "nbformat": 4,
 "nbformat_minor": 2
}
