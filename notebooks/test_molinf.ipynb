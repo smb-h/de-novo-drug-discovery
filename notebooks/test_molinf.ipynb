{
 "cells": [
  {
   "cell_type": "code",
   "execution_count": 3,
   "metadata": {},
   "outputs": [
    {
     "name": "stderr",
     "output_type": "stream",
     "text": [
      "2022-11-26 21:02:27.824265: I tensorflow/core/platform/cpu_feature_guard.cc:193] This TensorFlow binary is optimized with oneAPI Deep Neural Network Library (oneDNN) to use the following CPU instructions in performance-critical operations:  AVX2 AVX512F AVX512_VNNI FMA\n",
      "To enable them in other operations, rebuild TensorFlow with the appropriate compiler flags.\n",
      "2022-11-26 21:02:28.091468: I tensorflow/core/util/util.cc:169] oneDNN custom operations are on. You may see slightly different numerical results due to floating-point round-off errors from different computation orders. To turn them off, set the environment variable `TF_ENABLE_ONEDNN_OPTS=0`.\n"
     ]
    }
   ],
   "source": [
    "import pandas as pd\n",
    "import numpy as np\n",
    "import os\n",
    "from copy import copy\n",
    "from tqdm import tqdm\n",
    "from glob import glob\n",
    "import numpy as np\n",
    "import tensorflow as tf\n",
    "import tensorflow_probability as tfp\n",
    "from tensorflow import keras\n",
    "\n",
    "from rdkit.Chem import MolStandardize, MolFromSmiles, MolToSmiles\n",
    "\n",
    "from tensorflow.keras import layers\n",
    "from tensorflow.keras.callbacks import ModelCheckpoint, TensorBoard\n",
    "from tensorflow.keras.models import Sequential\n",
    "from sklearn.model_selection import train_test_split\n",
    "from sklearn.metrics import accuracy_score\n"
   ]
  },
  {
   "cell_type": "code",
   "execution_count": 4,
   "metadata": {},
   "outputs": [
    {
     "data": {
      "text/plain": [
       "['C1CCCCCNc2cc[n+](Cc3cccc(c3)c4cccc(C[n+]5ccc(NCCCC1)c6ccccc56)c4)c7ccccc27',\n",
       " 'Br\\\\C=C\\\\1/CCC(C(=O)O1)c2cccc3ccccc23',\n",
       " 'I\\\\C=C\\\\1/CCC(C(=O)O1)c2cccc3ccccc23',\n",
       " 'O=C1O\\\\C(=C\\\\C#C)\\\\CCC1c2cccc3ccccc23']"
      ]
     },
     "execution_count": 4,
     "metadata": {},
     "output_type": "execute_result"
    }
   ],
   "source": [
    "with open(\"../data/raw/dataset_sampled.smi\") as f:\n",
    "    smiles = [s.split(\"\\t\")[0].rstrip() for s in f]\n",
    "smiles[:4]\n"
   ]
  },
  {
   "cell_type": "code",
   "execution_count": 5,
   "metadata": {},
   "outputs": [],
   "source": [
    "class SmilesTokenizer(object):\n",
    "    def __init__(self):\n",
    "        atoms = [\n",
    "            \"Al\",\n",
    "            \"As\",\n",
    "            \"B\",\n",
    "            \"Br\",\n",
    "            \"C\",\n",
    "            \"Cl\",\n",
    "            \"F\",\n",
    "            \"H\",\n",
    "            \"I\",\n",
    "            \"K\",\n",
    "            \"Li\",\n",
    "            \"N\",\n",
    "            \"Na\",\n",
    "            \"O\",\n",
    "            \"P\",\n",
    "            \"S\",\n",
    "            \"Se\",\n",
    "            \"Si\",\n",
    "            \"Te\",\n",
    "        ]\n",
    "        special = [\n",
    "            \"(\",\n",
    "            \")\",\n",
    "            \"[\",\n",
    "            \"]\",\n",
    "            \"=\",\n",
    "            \"#\",\n",
    "            \"%\",\n",
    "            \"0\",\n",
    "            \"1\",\n",
    "            \"2\",\n",
    "            \"3\",\n",
    "            \"4\",\n",
    "            \"5\",\n",
    "            \"6\",\n",
    "            \"7\",\n",
    "            \"8\",\n",
    "            \"9\",\n",
    "            \"+\",\n",
    "            \"-\",\n",
    "            \"se\",\n",
    "            \"te\",\n",
    "            \"c\",\n",
    "            \"n\",\n",
    "            \"o\",\n",
    "            \"s\",\n",
    "        ]\n",
    "        padding = [\"G\", \"A\", \"E\"]\n",
    "\n",
    "        self.table = sorted(atoms, key=len, reverse=True) + special + padding\n",
    "        table_len = len(self.table)\n",
    "\n",
    "        self.table_2_chars = list(filter(lambda x: len(x) == 2, self.table))\n",
    "        self.table_1_chars = list(filter(lambda x: len(x) == 1, self.table))\n",
    "\n",
    "        self.one_hot_dict = {}\n",
    "        for i, symbol in enumerate(self.table):\n",
    "            vec = np.zeros(table_len, dtype=np.float32)\n",
    "            vec[i] = 1\n",
    "            self.one_hot_dict[symbol] = vec\n",
    "\n",
    "    def tokenize(self, smiles):\n",
    "        smiles = smiles + \" \"\n",
    "        N = len(smiles)\n",
    "        token = []\n",
    "        i = 0\n",
    "        while i < N:\n",
    "            c1 = smiles[i]\n",
    "            c2 = smiles[i : i + 2]\n",
    "\n",
    "            if c2 in self.table_2_chars:\n",
    "                token.append(c2)\n",
    "                i += 2\n",
    "                continue\n",
    "\n",
    "            if c1 in self.table_1_chars:\n",
    "                token.append(c1)\n",
    "                i += 1\n",
    "                continue\n",
    "\n",
    "            i += 1\n",
    "\n",
    "        return token\n",
    "\n",
    "    def one_hot_encode(self, tokenized_smiles):\n",
    "        result = np.array(\n",
    "            [self.one_hot_dict[symbol] for symbol in tokenized_smiles], dtype=np.float32\n",
    "        )\n",
    "        result = result.reshape(1, result.shape[0], result.shape[1])\n",
    "        return result\n"
   ]
  },
  {
   "cell_type": "code",
   "execution_count": 6,
   "metadata": {},
   "outputs": [],
   "source": [
    "class Preprocessor(object):\n",
    "    def __init__(self):\n",
    "        self.normarizer = MolStandardize.normalize.Normalizer()\n",
    "        self.lfc = MolStandardize.fragment.LargestFragmentChooser()\n",
    "        self.uc = MolStandardize.charge.Uncharger()\n",
    "\n",
    "    def process(self, smi):\n",
    "        mol = MolFromSmiles(smi)\n",
    "        if mol:\n",
    "            mol = self.normarizer.normalize(mol)\n",
    "            mol = self.lfc.choose(mol)\n",
    "            mol = self.uc.uncharge(mol)\n",
    "            smi = MolToSmiles(mol, isomericSmiles=False, canonical=True)\n",
    "            return smi\n",
    "        else:\n",
    "            return None\n"
   ]
  },
  {
   "cell_type": "code",
   "execution_count": 7,
   "metadata": {},
   "outputs": [
    {
     "name": "stdout",
     "output_type": "stream",
     "text": [
      "input SMILES num: 1000\n",
      "start preprocessing...\n"
     ]
    },
    {
     "name": "stderr",
     "output_type": "stream",
     "text": [
      "100%|██████████| 1000/1000 [00:00<00:00, 1781.26it/s]\n",
      "100%|██████████| 976/976 [00:00<00:00, 59829.30it/s]"
     ]
    },
    {
     "name": "stdout",
     "output_type": "stream",
     "text": [
      "Error:  0\n",
      "Error Tokens:  []\n",
      "Max SMILES length: 74\n",
      "output SMILES num: 582\n"
     ]
    },
    {
     "name": "stderr",
     "output_type": "stream",
     "text": [
      "\n"
     ]
    }
   ],
   "source": [
    "pp = Preprocessor()\n",
    "\n",
    "print(f\"input SMILES num: {len(smiles)}\")\n",
    "print(\"start preprocessing...\")\n",
    "\n",
    "smiles = [pp.process(smi) for smi in tqdm(smiles)]\n",
    "smiles = list(set([s for s in smiles if s]))\n",
    "\n",
    "# token limits (34 to 74)\n",
    "st = SmilesTokenizer()\n",
    "smiles_tokenized = [st.tokenize(smi) for smi in tqdm(smiles)]\n",
    "smiles_processed = []\n",
    "smiles_max_len = 0\n",
    "\n",
    "\n",
    "# check for not recognized tokens\n",
    "err = 0\n",
    "err_tokens = []\n",
    "for i in range(len(smiles)):\n",
    "    if smiles[i] != \"\".join(smiles_tokenized[i]):\n",
    "        print(\"=====================================\")\n",
    "        print(len(smiles[i]), \" :\", smiles[i])\n",
    "        print(len(smiles_tokenized[i]), \" :\" ,smiles_tokenized[i])\n",
    "        for char in smiles[i]:\n",
    "            if char not in smiles_tokenized[i]:\n",
    "                err_tokens.append(char)\n",
    "        err += 1\n",
    "print(\"Error: \", err)\n",
    "print(\"Error Tokens: \", err_tokens)\n",
    "\n",
    "\n",
    "for tokenized in smiles_tokenized:\n",
    "    if 34 <= len(tokenized) <= 74:\n",
    "        smiles_processed.append(tokenized)\n",
    "        # update smiles max len\n",
    "        if len(tokenized) > smiles_max_len:\n",
    "            smiles_max_len = len(tokenized)\n",
    "\n",
    "print(f\"Max SMILES length: {smiles_max_len}\")\n",
    "print(f\"output SMILES num: {len(smiles_processed)}\")\n"
   ]
  },
  {
   "cell_type": "code",
   "execution_count": 8,
   "metadata": {},
   "outputs": [],
   "source": [
    "def _pad(tokenized_smi):\n",
    "    return (\n",
    "        [\"G\"] + tokenized_smi + [\"E\"] + [\"A\" for _ in range(smiles_max_len - len(tokenized_smi))]\n",
    "    )\n",
    "\n",
    "def _padding(data):\n",
    "    padded_smiles = [_pad(t_smi) for t_smi in data]\n",
    "    return padded_smiles\n"
   ]
  },
  {
   "cell_type": "code",
   "execution_count": 9,
   "metadata": {},
   "outputs": [
    {
     "name": "stdout",
     "output_type": "stream",
     "text": [
      "C#CCN(Cc1ccc2nc(C)nc(O)c2c1)c1ccc(C(=O)NCc2ccccc2)cc1\n",
      "GC#CCN(Cc1ccc2nc(C)nc(O)c2c1)c1ccc(C(=O)NCc2ccccc2)cc1EAAAAAAAAAAAAAAAAAAAAA\n"
     ]
    }
   ],
   "source": [
    "# add paddings\n",
    "print(\"\".join(smiles_processed[0]))\n",
    "smiles_processed = _padding(smiles_processed)\n",
    "print(\"\".join(smiles_processed[0]))\n"
   ]
  },
  {
   "cell_type": "code",
   "execution_count": 10,
   "metadata": {},
   "outputs": [
    {
     "name": "stdout",
     "output_type": "stream",
     "text": [
      "-----------------------------------\n",
      "GC#CCN(Cc1ccc2nc(C)nc(O)c2c1)c1ccc(C(=O)NCc2ccccc2)cc1EAAAAAAAAAAAAAAAAAAAA\n",
      "C#CCN(Cc1ccc2nc(C)nc(O)c2c1)c1ccc(C(=O)NCc2ccccc2)cc1EAAAAAAAAAAAAAAAAAAAAA\n",
      "-----------------------------------\n",
      "GNc1nc(O)c2ncn(CCCCP(=O)(O)CP(=O)(O)O)c2n1EAAAAAAAAAAAAAAAAAAAAAAAAAAAAAAAA\n",
      "Nc1nc(O)c2ncn(CCCCP(=O)(O)CP(=O)(O)O)c2n1EAAAAAAAAAAAAAAAAAAAAAAAAAAAAAAAAA\n",
      "-----------------------------------\n",
      "GC#CCN(Cc1ccc2nc(C)nc(O)c2c1)c1ccc(C(=O)NC(CCC(=O)O)C(=O)O)cc1EAAAAAAAAAAAA\n",
      "C#CCN(Cc1ccc2nc(C)nc(O)c2c1)c1ccc(C(=O)NC(CCC(=O)O)C(=O)O)cc1EAAAAAAAAAAAAA\n",
      "-----------------------------------\n",
      "GCOc1cccc(Oc2ccc(NC(=O)CC(C)C)cc2)c1EAAAAAAAAAAAAAAAAAAAAAAAAAAAAAAAAAAAAAA\n",
      "COc1cccc(Oc2ccc(NC(=O)CC(C)C)cc2)c1EAAAAAAAAAAAAAAAAAAAAAAAAAAAAAAAAAAAAAAA\n",
      "-----------------------------------\n",
      "GCCC1CC(C)c2cc3c(C(F)(F)F)cc(O)nc3cc2N1EAAAAAAAAAAAAAAAAAAAAAAAAAAAAAAAAAAA\n",
      "CCC1CC(C)c2cc3c(C(F)(F)F)cc(O)nc3cc2N1EAAAAAAAAAAAAAAAAAAAAAAAAAAAAAAAAAAAA\n",
      "(582, 75, 47)\n"
     ]
    },
    {
     "data": {
      "text/plain": [
       "array([[[0., 0., 0., ..., 1., 0., 0.],\n",
       "        [0., 0., 0., ..., 0., 0., 0.],\n",
       "        [0., 0., 0., ..., 0., 0., 0.],\n",
       "        ...,\n",
       "        [0., 0., 0., ..., 0., 1., 0.],\n",
       "        [0., 0., 0., ..., 0., 1., 0.],\n",
       "        [0., 0., 0., ..., 0., 1., 0.]],\n",
       "\n",
       "       [[0., 0., 0., ..., 1., 0., 0.],\n",
       "        [0., 0., 0., ..., 0., 0., 0.],\n",
       "        [0., 0., 0., ..., 0., 0., 0.],\n",
       "        ...,\n",
       "        [0., 0., 0., ..., 0., 1., 0.],\n",
       "        [0., 0., 0., ..., 0., 1., 0.],\n",
       "        [0., 0., 0., ..., 0., 1., 0.]],\n",
       "\n",
       "       [[0., 0., 0., ..., 1., 0., 0.],\n",
       "        [0., 0., 0., ..., 0., 0., 0.],\n",
       "        [0., 0., 0., ..., 0., 0., 0.],\n",
       "        ...,\n",
       "        [0., 0., 0., ..., 0., 1., 0.],\n",
       "        [0., 0., 0., ..., 0., 1., 0.],\n",
       "        [0., 0., 0., ..., 0., 1., 0.]],\n",
       "\n",
       "       ...,\n",
       "\n",
       "       [[0., 0., 0., ..., 1., 0., 0.],\n",
       "        [0., 0., 0., ..., 0., 0., 0.],\n",
       "        [0., 0., 0., ..., 0., 0., 0.],\n",
       "        ...,\n",
       "        [0., 0., 0., ..., 0., 1., 0.],\n",
       "        [0., 0., 0., ..., 0., 1., 0.],\n",
       "        [0., 0., 0., ..., 0., 1., 0.]],\n",
       "\n",
       "       [[0., 0., 0., ..., 1., 0., 0.],\n",
       "        [0., 0., 0., ..., 0., 0., 0.],\n",
       "        [0., 0., 0., ..., 0., 0., 0.],\n",
       "        ...,\n",
       "        [0., 0., 0., ..., 0., 1., 0.],\n",
       "        [0., 0., 0., ..., 0., 1., 0.],\n",
       "        [0., 0., 0., ..., 0., 1., 0.]],\n",
       "\n",
       "       [[0., 0., 0., ..., 1., 0., 0.],\n",
       "        [0., 0., 0., ..., 0., 0., 0.],\n",
       "        [0., 0., 0., ..., 0., 0., 0.],\n",
       "        ...,\n",
       "        [0., 0., 0., ..., 0., 1., 0.],\n",
       "        [0., 0., 0., ..., 0., 1., 0.],\n",
       "        [0., 0., 0., ..., 0., 1., 0.]]], dtype=float32)"
      ]
     },
     "execution_count": 10,
     "metadata": {},
     "output_type": "execute_result"
    }
   ],
   "source": [
    "# one hot encode\n",
    "x, y = [], []\n",
    "\n",
    "for tp_smi in smiles_processed[:5]:\n",
    "    print(\"-----------------------------------\")\n",
    "    print(\"\".join(tp_smi[:-1]))\n",
    "    print(\"\".join(tp_smi[1:]))\n",
    "\n",
    "for tp_smi in smiles_processed:\n",
    "    _x = [st.one_hot_dict[symbol] for symbol in tp_smi[:-1]]\n",
    "    x.append(_x)\n",
    "    _y = [st.one_hot_dict[symbol] for symbol in tp_smi[1:]]\n",
    "    y.append(_y)\n",
    "\n",
    "x = np.array(x, dtype=np.float32)\n",
    "y = np.array(y, dtype=np.float32)\n",
    "print(x.shape)\n",
    "x\n"
   ]
  },
  {
   "cell_type": "code",
   "execution_count": 11,
   "metadata": {},
   "outputs": [
    {
     "data": {
      "text/plain": [
       "array([[[0., 0., 0., ..., 0., 0., 0.],\n",
       "        [0., 0., 0., ..., 0., 0., 0.],\n",
       "        [0., 0., 0., ..., 0., 0., 0.],\n",
       "        ...,\n",
       "        [0., 0., 0., ..., 0., 1., 0.],\n",
       "        [0., 0., 0., ..., 0., 1., 0.],\n",
       "        [0., 0., 0., ..., 0., 1., 0.]],\n",
       "\n",
       "       [[0., 0., 0., ..., 0., 0., 0.],\n",
       "        [0., 0., 0., ..., 0., 0., 0.],\n",
       "        [0., 0., 0., ..., 0., 0., 0.],\n",
       "        ...,\n",
       "        [0., 0., 0., ..., 0., 1., 0.],\n",
       "        [0., 0., 0., ..., 0., 1., 0.],\n",
       "        [0., 0., 0., ..., 0., 1., 0.]],\n",
       "\n",
       "       [[0., 0., 0., ..., 0., 0., 0.],\n",
       "        [0., 0., 0., ..., 0., 0., 0.],\n",
       "        [0., 0., 0., ..., 0., 0., 0.],\n",
       "        ...,\n",
       "        [0., 0., 0., ..., 0., 1., 0.],\n",
       "        [0., 0., 0., ..., 0., 1., 0.],\n",
       "        [0., 0., 0., ..., 0., 1., 0.]],\n",
       "\n",
       "       ...,\n",
       "\n",
       "       [[0., 0., 0., ..., 0., 0., 0.],\n",
       "        [0., 0., 0., ..., 0., 0., 0.],\n",
       "        [0., 0., 0., ..., 0., 0., 0.],\n",
       "        ...,\n",
       "        [0., 0., 0., ..., 0., 1., 0.],\n",
       "        [0., 0., 0., ..., 0., 1., 0.],\n",
       "        [0., 0., 0., ..., 0., 1., 0.]],\n",
       "\n",
       "       [[0., 0., 0., ..., 0., 0., 0.],\n",
       "        [0., 0., 0., ..., 0., 0., 0.],\n",
       "        [0., 0., 0., ..., 0., 0., 0.],\n",
       "        ...,\n",
       "        [0., 0., 0., ..., 0., 1., 0.],\n",
       "        [0., 0., 0., ..., 0., 1., 0.],\n",
       "        [0., 0., 0., ..., 0., 1., 0.]],\n",
       "\n",
       "       [[0., 0., 0., ..., 0., 0., 0.],\n",
       "        [0., 0., 0., ..., 0., 0., 0.],\n",
       "        [0., 0., 0., ..., 0., 0., 0.],\n",
       "        ...,\n",
       "        [0., 0., 0., ..., 0., 1., 0.],\n",
       "        [0., 0., 0., ..., 0., 1., 0.],\n",
       "        [0., 0., 0., ..., 0., 1., 0.]]], dtype=float32)"
      ]
     },
     "execution_count": 11,
     "metadata": {},
     "output_type": "execute_result"
    }
   ],
   "source": [
    "# split data to 10% test, 20% validation, 70% train\n",
    "x_train, x_test, y_train, y_test = train_test_split(x, y, test_size=0.1, random_state=42)\n",
    "x_train, x_val, y_train, y_val = train_test_split(x_train, y_train, test_size=0.2, random_state=42)\n",
    "y_test\n"
   ]
  },
  {
   "cell_type": "code",
   "execution_count": 12,
   "metadata": {},
   "outputs": [],
   "source": [
    "for i in range(x.shape[0]):\n",
    "    if x[i].shape != y[i].shape:\n",
    "        print(x[i].shape)\n",
    "        print(y[i].shape)\n"
   ]
  },
  {
   "cell_type": "code",
   "execution_count": 13,
   "metadata": {},
   "outputs": [
    {
     "name": "stderr",
     "output_type": "stream",
     "text": [
      "2022-11-26 21:02:31.460532: I tensorflow/core/platform/cpu_feature_guard.cc:193] This TensorFlow binary is optimized with oneAPI Deep Neural Network Library (oneDNN) to use the following CPU instructions in performance-critical operations:  AVX2 AVX512F AVX512_VNNI FMA\n",
      "To enable them in other operations, rebuild TensorFlow with the appropriate compiler flags.\n"
     ]
    },
    {
     "name": "stdout",
     "output_type": "stream",
     "text": [
      "Model: \"model\"\n",
      "__________________________________________________________________________________________________\n",
      " Layer (type)                   Output Shape         Param #     Connected to                     \n",
      "==================================================================================================\n",
      " Input_EX3 (InputLayer)         [(None, 75, 47)]     0           []                               \n",
      "                                                                                                  \n",
      " dense (Dense)                  (None, 75, 60)       2880        ['Input_EX3[0][0]']              \n",
      "                                                                                                  \n",
      " dense_1 (Dense)                (None, 75, 60)       3660        ['dense[0][0]']                  \n",
      "                                                                                                  \n",
      " Input_Ex1 (InputLayer)         [(None, 75, 47)]     0           []                               \n",
      "                                                                                                  \n",
      " dense_2 (Dense)                (None, 75, 60)       3660        ['dense_1[0][0]']                \n",
      "                                                                                                  \n",
      " polarizer (InputLayer)         [(None, 75, 47)]     0           []                               \n",
      "                                                                                                  \n",
      " lstm (LSTM)                    (None, 75, 60)       25920       ['Input_Ex1[0][0]']              \n",
      "                                                                                                  \n",
      " customized_layer__polarizer (C  [(None, 75, 60),    0           ['dense_2[0][0]']                \n",
      " ustomizedLayer_Polarizer)       (None, 75, 60)]                                                  \n",
      "                                                                                                  \n",
      " lstm_1 (LSTM)                  (None, 75, 60)       25920       ['polarizer[0][0]']              \n",
      "                                                                                                  \n",
      " concatenate (Concatenate)      (None, 75, 120)      0           ['lstm[0][0]',                   \n",
      "                                                                  'customized_layer__polarizer[0][\n",
      "                                                                 0]']                             \n",
      "                                                                                                  \n",
      " concatenate_1 (Concatenate)    (None, 75, 120)      0           ['lstm_1[0][0]',                 \n",
      "                                                                  'customized_layer__polarizer[0][\n",
      "                                                                 1]']                             \n",
      "                                                                                                  \n",
      " customized_layer__attention (C  (None, 75, 60)      0           ['concatenate[0][0]']            \n",
      " ustomizedLayer_Attention)                                                                        \n",
      "                                                                                                  \n",
      " customized_layer__attention_1   (None, 75, 60)      0           ['concatenate_1[0][0]']          \n",
      " (CustomizedLayer_Attention)                                                                      \n",
      "                                                                                                  \n",
      " lstm_2 (LSTM)                  (None, 75, 60)       29040       ['customized_layer__attention[0][\n",
      "                                                                 0]']                             \n",
      "                                                                                                  \n",
      " lstm_3 (LSTM)                  (None, 75, 60)       29040       ['customized_layer__attention_1[0\n",
      "                                                                 ][0]']                           \n",
      "                                                                                                  \n",
      " dense_3 (Dense)                (None, 75, 35)       2135        ['lstm_2[0][0]']                 \n",
      "                                                                                                  \n",
      " dense_4 (Dense)                (None, 75, 35)       2135        ['lstm_3[0][0]']                 \n",
      "                                                                                                  \n",
      " concatenate_2 (Concatenate)    (None, 75, 70)       0           ['dense_3[0][0]',                \n",
      "                                                                  'dense_4[0][0]']                \n",
      "                                                                                                  \n",
      " batch_normalization (BatchNorm  (None, 75, 70)      280         ['concatenate_2[0][0]']          \n",
      " alization)                                                                                       \n",
      "                                                                                                  \n",
      " dense_variational (DenseVariat  (None, 75, 70)      9940        ['batch_normalization[0][0]']    \n",
      " ional)                                                                                           \n",
      "                                                                                                  \n",
      " dense_variational_1 (DenseVari  (None, 75, 70)      9940        ['dense_variational[0][0]']      \n",
      " ational)                                                                                         \n",
      "                                                                                                  \n",
      " dense_variational_2 (DenseVari  (None, 75, 70)      9940        ['dense_variational_1[0][0]']    \n",
      " ational)                                                                                         \n",
      "                                                                                                  \n",
      " dense_5 (Dense)                (None, 75, 47)       3337        ['dense_variational_2[0][0]']    \n",
      "                                                                                                  \n",
      "==================================================================================================\n",
      "Total params: 157,827\n",
      "Trainable params: 157,687\n",
      "Non-trainable params: 140\n",
      "__________________________________________________________________________________________________\n"
     ]
    }
   ],
   "source": [
    "# model\n",
    "\n",
    "np.set_printoptions(precision=3, suppress=True)\n",
    "tfd = tfp.distributions\n",
    "\n",
    "\n",
    "class CustomizedLayer_Polarizer(keras.layers.Layer):\n",
    "    def __init__(self, units=32):\n",
    "        super(CustomizedLayer_Polarizer, self).__init__()\n",
    "\n",
    "    def call(self, inputs):\n",
    "        G_thesis = inputs\n",
    "        G_antithesis = 1 - inputs\n",
    "\n",
    "        return [G_thesis, G_antithesis]\n",
    "\n",
    "\n",
    "class CustomizedLayer_Attention(keras.layers.Layer):\n",
    "    def __init__(self, units=32):\n",
    "        super(CustomizedLayer_Attention, self).__init__()\n",
    "\n",
    "    def call(self, inputs):\n",
    "        # G_LSTM= inputs[:,:60]\n",
    "        # G_Attention= inputs[:,60:]\n",
    "        # res= tf.math.add(G_LSTM, G_Attention)\n",
    "        elem_prod = inputs[:, :, :60] + inputs[:, :, 60:]\n",
    "        # res = k.sum(elem_prod, axis=-1, keepdims=True)\n",
    "        return elem_prod\n",
    "\n",
    "\n",
    "def prior_mean_field(kernel_size, bias_size, dtype=None):  # prior Function\n",
    "    n = kernel_size + bias_size\n",
    "    return lambda t: tfd.Independent(\n",
    "        tfd.Normal(loc=tf.zeros(n, dtype=dtype), scale=tf.ones(n)), reinterpreted_batch_ndims=1\n",
    "    )\n",
    "\n",
    "\n",
    "def posterior_mean_field(kernel_size, bias_size=0, dtype=None):  # Posterior Function\n",
    "    n = kernel_size + bias_size\n",
    "    c = np.log(np.expm1(1.0))\n",
    "    return tf.keras.Sequential(\n",
    "        [\n",
    "            tfp.layers.VariableLayer(2 * n, dtype=dtype),\n",
    "            tfp.layers.DistributionLambda(\n",
    "                lambda t: tfd.Independent(\n",
    "                    tfd.Normal(loc=t[..., :n], scale=1e-5 + 0.01 * tf.nn.softplus(c + t[..., n:])),\n",
    "                    reinterpreted_batch_ndims=1,\n",
    "                )\n",
    "            ),\n",
    "        ]\n",
    "    )\n",
    "\n",
    "\n",
    "data_len = x.shape[0]\n",
    "hidden_units = [70, 70, 70]\n",
    "batch_size = 50\n",
    "counter_L = 0\n",
    "look_back = 1\n",
    "model = Sequential()\n",
    "# InData_Ex1 = layers.Input(shape=([1, 70]), name=\"Input_Ex1\")\n",
    "# InData_Ex2 = layers.Input(shape=([1, 70]), name=\"polarizer\")\n",
    "# InData_Ex3 = layers.Input(shape=([1, 70]), name=\"Input_EX3\")\n",
    "InData_Ex1 = layers.Input(shape=([(smiles_max_len + 1), 47]), name=\"Input_Ex1\")\n",
    "InData_Ex2 = layers.Input(shape=([(smiles_max_len + 1), 47]), name=\"polarizer\")\n",
    "InData_Ex3 = layers.Input(shape=([(smiles_max_len + 1), 47]), name=\"Input_EX3\")\n",
    "EX_lstm1 = layers.LSTM(60, return_sequences=True)(InData_Ex1)\n",
    "EX_lstm2 = layers.LSTM(60, return_sequences=True)(InData_Ex2)\n",
    "GateIn = layers.Dense(units=60, activation=\"sigmoid\")(InData_Ex3)\n",
    "Gate_pp = layers.Dense(units=60, activation=\"sigmoid\")(GateIn)\n",
    "Gate_pp = layers.Dense(units=60, activation=\"sigmoid\")(Gate_pp)\n",
    "CFPG = CustomizedLayer_Polarizer(units=60)(Gate_pp)\n",
    "# GatesODD = layers.Dense(units=60, activation='sigmoid')(GatesIn)\n",
    "MultiplictionEven_In = layers.Concatenate(axis=-1)([EX_lstm1, CFPG[0]])\n",
    "MultiplictionEven_In = CustomizedLayer_Attention()(MultiplictionEven_In)\n",
    "EX_lstm1 = layers.LSTM(60, return_sequences=True)(MultiplictionEven_In)\n",
    "MultiplictionEven = layers.Dense(units=35, activation=\"sigmoid\")(EX_lstm1)\n",
    "MultiplictionODD_In = layers.Concatenate(axis=-1)([EX_lstm2, CFPG[1]])\n",
    "MultiplictionODD_In = CustomizedLayer_Attention()(MultiplictionODD_In)\n",
    "EX_lstm2 = layers.LSTM(60, return_sequences=True)(MultiplictionODD_In)\n",
    "MultiplictionODD = layers.Dense(units=35, activation=\"sigmoid\")(EX_lstm2)\n",
    "# features = layers.Concatenate([InData_Ex1, InData_Ex2, InData_Ex3, InData_Ex4])\n",
    "InData = layers.Concatenate(axis=-1)([MultiplictionEven, MultiplictionODD])\n",
    "InData = layers.BatchNormalization()(InData)\n",
    "features = InData\n",
    "for units in hidden_units:\n",
    "    features = tfp.layers.DenseVariational(\n",
    "        units=units,\n",
    "        make_prior_fn=prior_mean_field,\n",
    "        make_posterior_fn=posterior_mean_field,\n",
    "        kl_weight=1 / data_len,\n",
    "        activation=\"relu\",\n",
    "    )(features)\n",
    "# features = layers.Dense(units=70, activation=\"sigmoid\")(features)\n",
    "features = layers.Dense(units=47, activation=\"sigmoid\")(features)\n",
    "model = keras.Model(inputs=[InData_Ex1, InData_Ex2, InData_Ex3], outputs=features)\n",
    "model.compile(\n",
    "    optimizer=tf.keras.optimizers.Adam(learning_rate=0.001),\n",
    "    loss=\"binary_crossentropy\",\n",
    "    metrics=[\"accuracy\"],\n",
    ")\n",
    "model.summary()\n"
   ]
  },
  {
   "cell_type": "code",
   "execution_count": 14,
   "metadata": {},
   "outputs": [],
   "source": [
    "callbacks = []\n",
    "callbacks.append(\n",
    "    ModelCheckpoint(\n",
    "        filepath=os.path.join(\n",
    "            \"../reports/\",\n",
    "            \"2022-11-26\",\n",
    "            \"test\",\n",
    "            \"checkpoints\",\n",
    "            '{epoch:02d}.hdf5'),\n",
    "        monitor=\"val_loss\",\n",
    "        mode=\"min\",\n",
    "        save_best_only=False,\n",
    "        save_weights_only=True,\n",
    "        verbose=True,\n",
    "    )\n",
    ")\n",
    "# create checkpoints dir\n",
    "os.makedirs(os.path.join(\n",
    "    \"../reports/\",\n",
    "    \"2022-11-26\",\n",
    "    \"test\",\n",
    "    \"checkpoints\"), exist_ok=True)\n",
    "\n",
    "callbacks.append(\n",
    "    TensorBoard(\n",
    "        log_dir=os.path.join(\n",
    "            \"../reports/\",\n",
    "            \"2022-11-26\",\n",
    "            \"test\",\n",
    "            \"logs\",\n",
    "        ),\n",
    "        write_graph=True,\n",
    "        write_images=True,\n",
    "        update_freq=\"epoch\",\n",
    "    )\n",
    ")\n"
   ]
  },
  {
   "cell_type": "code",
   "execution_count": 15,
   "metadata": {},
   "outputs": [
    {
     "name": "stdout",
     "output_type": "stream",
     "text": [
      "WARNING:tensorflow:Model failed to serialize as JSON. Ignoring... \n",
      "Layer CustomizedLayer_Polarizer has arguments ['units']\n",
      "in `__init__` and therefore must override `get_config()`.\n",
      "\n",
      "Example:\n",
      "\n",
      "class CustomLayer(keras.layers.Layer):\n",
      "    def __init__(self, arg1, arg2):\n",
      "        super().__init__()\n",
      "        self.arg1 = arg1\n",
      "        self.arg2 = arg2\n",
      "\n",
      "    def get_config(self):\n",
      "        config = super().get_config()\n",
      "        config.update({\n",
      "            \"arg1\": self.arg1,\n",
      "            \"arg2\": self.arg2,\n",
      "        })\n",
      "        return config\n",
      "13/14 [==========================>...] - ETA: 0s - loss: 105.7315 - accuracy: 0.0481\n",
      "Epoch 1: saving model to ../reports/2022-11-26/test/checkpoints/01.hdf5\n",
      "14/14 [==============================] - 6s 128ms/step - loss: 105.7314 - accuracy: 0.0481 - val_loss: 105.5938 - val_accuracy: 0.0457\n"
     ]
    }
   ],
   "source": [
    "history = model.fit(\n",
    "            {\"Input_Ex1\": x_train, \"polarizer\": x_train, \"Input_EX3\": x_train},\n",
    "            y_train,\n",
    "            # steps_per_epoch=x_train.shape[0],\n",
    "            epochs=1,\n",
    "            verbose=True,\n",
    "            validation_data=({\"Input_Ex1\": x_val, \"polarizer\": x_val, \"Input_EX3\": x_val}, y_val),\n",
    "            # validation_steps=x_val.shape[0],\n",
    "            # validation_steps=30,\n",
    "            use_multiprocessing=True,\n",
    "            shuffle=True,\n",
    "            callbacks=callbacks,\n",
    "        )\n",
    "\n",
    "# last_weight_file = glob(\n",
    "#     os.path.join(\n",
    "#         \"../reports/\",\n",
    "#         \"2022-11-15\",\n",
    "#         \"test\",\n",
    "#         \"checkpoints\",\n",
    "#         'test-{30:02}*.hdf5')\n",
    "# )[0]\n"
   ]
  },
  {
   "cell_type": "code",
   "execution_count": 16,
   "metadata": {},
   "outputs": [
    {
     "name": "stdout",
     "output_type": "stream",
     "text": [
      "2/2 [==============================] - 1s 14ms/step\n"
     ]
    }
   ],
   "source": [
    "# predict 5 new smiles\n",
    "y_pred = model.predict(\n",
    "    {\"Input_Ex1\": x_test, \"polarizer\": x_test, \"Input_EX3\": x_test},\n",
    "    verbose=True,\n",
    "    use_multiprocessing=True,\n",
    ")\n"
   ]
  },
  {
   "cell_type": "code",
   "execution_count": 17,
   "metadata": {},
   "outputs": [
    {
     "name": "stdout",
     "output_type": "stream",
     "text": [
      "y_test_decoded:  COc1cc2nc(N3CCC(C(=O)NCC4CC4)CC3)nc(N)c2cc1OC\n",
      "y_pred_decoded:  CCCC1Cc2cc3c(C(F)(F)F)cc(O)nc3cc2NC1CC\n",
      "\n",
      "y_test_decoded:  CCCCCCC(C(=O)N1CC(Oc2ccccc2)CC1C(=O)O)n1cnc(NC(=O)c2ccccc2S(=O)(=O)O)c1\n",
      "y_pred_decoded:  Cn1cc(C2=C(c3cn(CCCSC(=N)N)c4ccccc34)C(=O)NC2=O)c2ccccc21\n",
      "\n",
      "y_test_decoded:  CC(C)C(=O)NCC(C)(C)NCC(O)COC(=O)c1ccccc1F\n",
      "y_pred_decoded:  CCCCc1nc2ccccc2n1Cc1ccc(-c2ccccc2C(=O)O)cc1\n",
      "\n",
      "y_test_decoded:  CC1(C=CC#N)C(C(=O)O)N2C(=O)C(CO)C2S1(=O)=O\n",
      "y_pred_decoded:  CS(=O)(=O)NC(C(=O)N1CCCC1C(=O)NCc1ccc(C(=N)N)cc1)C1CCCCC1\n",
      "\n",
      "y_test_decoded:  C#CCN(Cc1cc2c(O)nc(C)nc2cc1C)c1ccc(C(=O)NCc2nccs2)c(F)c1\n",
      "y_pred_decoded:  O=C(Oc1ccc2[nH]c(C(=O)c3cc4ccccc4[nH]3)cc2c1)c1ccc([N+](=O)[O-])cc1\n",
      "\n"
     ]
    }
   ],
   "source": [
    "import random\n",
    "\n",
    "def decode_smiles(x):\n",
    "    keys = list(st.one_hot_dict.keys())\n",
    "    tmp = [keys[np.argmax(i)] for i in x]\n",
    "    return(\"\".join(tmp))\n",
    "\n",
    "y_test_copy = y_test.copy()\n",
    "y_test_decoded = []\n",
    "# y_test_copy to smiles\n",
    "for encoded_smi in y_test_copy:\n",
    "    smi = decode_smiles(encoded_smi)\n",
    "    y_test_decoded.append(smi)\n",
    "\n",
    "y_pred_copy = y_pred.copy()\n",
    "# TODO: delete this\n",
    "# pick random samples of y_train with len y_pred_copy\n",
    "y_pred_copy = random.sample(list(y_train), len(y_pred_copy))\n",
    "\n",
    "y_pred_decoded = []\n",
    "# y_pred_copy to smiles\n",
    "for encoded_smi in y_pred_copy:\n",
    "    smi = decode_smiles(encoded_smi)\n",
    "    y_pred_decoded.append(smi)\n",
    "\n",
    "# Remove G, E, A paddings\n",
    "y_test_decoded = [smi.replace(\"G\", \"\").replace(\"E\", \"\").replace(\"A\", \"\") for smi in y_test_decoded]\n",
    "y_pred_decoded = [smi.replace(\"G\", \"\").replace(\"E\", \"\").replace(\"A\", \"\") for smi in y_pred_decoded]\n",
    "\n",
    "# compare y_test_decoded and y_pred_decoded\n",
    "for i in range(5):\n",
    "    print(\"y_test_decoded: \", y_test_decoded[i])\n",
    "    print(\"y_pred_decoded: \", y_pred_decoded[i])\n",
    "    print(\"\")\n"
   ]
  },
  {
   "cell_type": "code",
   "execution_count": 18,
   "metadata": {},
   "outputs": [
    {
     "name": "stdout",
     "output_type": "stream",
     "text": [
      "0.20%\n",
      "100.00%\n"
     ]
    }
   ],
   "source": [
    "from rdkit import  Chem, DataStructs\n",
    "from rdkit.Chem import AllChem\n",
    "\n",
    "\n",
    "pred_mols = []\n",
    "for smi in y_pred_decoded:\n",
    "    mol = Chem.MolFromSmiles(smi)\n",
    "    if mol is not None:\n",
    "        pred_mols.append(mol)\n",
    "# low validity\n",
    "print(f'{len(pred_mols) / 30000:.2%}')\n",
    "\n",
    "pred_mols_2 = [Chem.MolToSmiles(mol) for mol in pred_mols]\n",
    "# high uniqueness\n",
    "print(f'{len(set(pred_mols_2)) / len(pred_mols_2):.2%}')\n",
    "\n",
    "org_mols = [mol for mol in [Chem.MolFromSmiles(smi) for smi in y_test_decoded] if mol is not None]\n",
    "\n"
   ]
  },
  {
   "cell_type": "code",
   "execution_count": 19,
   "metadata": {},
   "outputs": [],
   "source": [
    "Vfps = []\n",
    "for mol in pred_mols:\n",
    "    bv = AllChem.GetMACCSKeysFingerprint(mol)\n",
    "    fp = np.zeros(len(bv))\n",
    "    DataStructs.ConvertToNumpyArray(bv, fp)\n",
    "    Vfps.append(fp)\n",
    "\n",
    "Ofps = []\n",
    "for mol in org_mols:\n",
    "    bv = AllChem.GetMACCSKeysFingerprint(mol)\n",
    "    fp = np.zeros(len(bv))\n",
    "    DataStructs.ConvertToNumpyArray(bv, fp)\n",
    "    Ofps.append(fp)"
   ]
  },
  {
   "cell_type": "code",
   "execution_count": 20,
   "metadata": {},
   "outputs": [
    {
     "data": {
      "text/plain": [
       "array([[-1.396,  0.737],\n",
       "       [ 0.285, -0.613],\n",
       "       [-0.942, -0.052],\n",
       "       [ 4.174, -1.26 ],\n",
       "       [ 0.35 ,  1.021],\n",
       "       [ 2.842,  2.136],\n",
       "       [-1.129, -0.601],\n",
       "       [-1.345,  1.036],\n",
       "       [-1.198, -0.213],\n",
       "       [-0.813,  2.113],\n",
       "       [-0.212, -0.724],\n",
       "       [ 3.119,  0.445],\n",
       "       [-1.273,  1.196],\n",
       "       [-1.097,  2.61 ],\n",
       "       [-1.317, -2.354],\n",
       "       [ 2.54 , -0.17 ],\n",
       "       [ 4.114, -1.018],\n",
       "       [ 0.575, -1.71 ],\n",
       "       [-1.301, -2.084],\n",
       "       [-1.099,  1.623],\n",
       "       [-1.206,  1.163],\n",
       "       [-1.306,  1.137],\n",
       "       [-1.373, -0.472],\n",
       "       [ 0.39 , -0.46 ],\n",
       "       [-1.055, -0.347],\n",
       "       [-1.423, -2.644],\n",
       "       [-1.369,  1.356],\n",
       "       [-1.416, -1.624],\n",
       "       [-1.27 , -0.492],\n",
       "       [-0.539,  0.635],\n",
       "       [-0.492, -2.686],\n",
       "       [-0.584,  3.585],\n",
       "       [-0.35 , -1.207],\n",
       "       [ 0.029, -0.883],\n",
       "       [-1.162, -2.961],\n",
       "       [ 0.276, -0.727],\n",
       "       [ 3.142,  2.258],\n",
       "       [-1.336,  0.762],\n",
       "       [-0.499, -0.504],\n",
       "       [ 0.528, -1.499],\n",
       "       [-1.302,  0.937],\n",
       "       [ 1.179, -1.224],\n",
       "       [-1.347, -2.072],\n",
       "       [ 4.166, -1.309],\n",
       "       [ 4.393, -1.135],\n",
       "       [ 0.09 ,  2.565],\n",
       "       [-1.593, -0.913],\n",
       "       [ 0.603, -1.22 ],\n",
       "       [-0.59 , -0.174],\n",
       "       [ 3.018,  1.99 ],\n",
       "       [-1.312,  0.563],\n",
       "       [-0.57 ,  2.06 ],\n",
       "       [ 3.038,  0.709],\n",
       "       [-1.276, -1.921],\n",
       "       [-0.395, -1.832],\n",
       "       [-1.4  , -1.484],\n",
       "       [-0.618, -0.803],\n",
       "       [-1.461, -2.174],\n",
       "       [-0.826, -0.509],\n",
       "       [-1.299, -2.339],\n",
       "       [ 2.839, -1.869],\n",
       "       [ 0.371, -1.395],\n",
       "       [ 3.038, -0.217],\n",
       "       [-0.67 , -0.094],\n",
       "       [-0.463,  0.219],\n",
       "       [-0.446, -1.112],\n",
       "       [-0.677,  0.536],\n",
       "       [ 3.798, -1.625],\n",
       "       [ 3.098,  2.232],\n",
       "       [-0.912,  2.181],\n",
       "       [-0.319,  2.666],\n",
       "       [-1.423, -2.557],\n",
       "       [-1.543,  1.153],\n",
       "       [ 2.141,  1.648],\n",
       "       [-1.326, -2.452],\n",
       "       [-1.336,  0.762],\n",
       "       [ 0.03 ,  3.169],\n",
       "       [-1.066,  2.522],\n",
       "       [ 3.933,  0.402],\n",
       "       [-1.034, -2.335],\n",
       "       [-0.432,  2.9  ],\n",
       "       [-0.619, -1.268],\n",
       "       [ 0.729,  3.185],\n",
       "       [ 0.023, -1.437],\n",
       "       [-0.24 ,  0.709],\n",
       "       [ 4.06 , -0.216],\n",
       "       [-1.171, -1.354],\n",
       "       [ 0.09 ,  2.565],\n",
       "       [-0.933,  2.393],\n",
       "       [-0.512,  1.021],\n",
       "       [-0.076, -1.709],\n",
       "       [-0.927, -1.61 ],\n",
       "       [-0.786,  1.494],\n",
       "       [ 4.3  , -1.114],\n",
       "       [-1.401,  1.322],\n",
       "       [ 0.34 , -1.379],\n",
       "       [-0.517, -0.281],\n",
       "       [-1.093,  0.696],\n",
       "       [ 0.207, -1.335],\n",
       "       [-0.141, -1.606],\n",
       "       [ 0.089,  1.164],\n",
       "       [ 4.082, -0.021],\n",
       "       [-1.451,  2.027],\n",
       "       [ 3.887,  0.15 ],\n",
       "       [-0.346, -1.379],\n",
       "       [-1.38 ,  0.954],\n",
       "       [-1.476,  1.356],\n",
       "       [-0.649,  0.657],\n",
       "       [-1.423, -2.644],\n",
       "       [ 0.16 , -1.931],\n",
       "       [-0.255, -0.289],\n",
       "       [-1.35 ,  1.191],\n",
       "       [-1.471, -0.854],\n",
       "       [ 0.148,  0.997],\n",
       "       [-1.097,  2.61 ],\n",
       "       [-1.243, -0.038],\n",
       "       [-0.526,  3.073],\n",
       "       [-0.989, -0.055]])"
      ]
     },
     "execution_count": 20,
     "metadata": {},
     "output_type": "execute_result"
    }
   ],
   "source": [
    "from sklearn.decomposition import PCA\n",
    "\n",
    "pca = PCA(n_components=2, random_state=42)\n",
    "Vlen = len(Vfps)\n",
    "x = Vfps + Ofps\n",
    "x = pca.fit_transform(x)\n",
    "x"
   ]
  },
  {
   "cell_type": "code",
   "execution_count": 24,
   "metadata": {},
   "outputs": [
    {
     "data": {
      "application/vnd.plotly.v1+json": {
       "config": {
        "plotlyServerURL": "https://plot.ly"
       },
       "data": [
        {
         "mode": "markers",
         "name": "generated",
         "type": "scatter",
         "x": [
          -1.3960316553210879,
          0.28494228173389285,
          -0.9417421082076161,
          4.173838265498756,
          0.35009561532911077,
          2.8421757102162655,
          -1.1293658991211168,
          -1.3454387563373917,
          -1.1981003270655082,
          -0.8126053868741161,
          -0.2120507095074264,
          3.11853982343463,
          -1.2733088791166853,
          -1.0974262100809893,
          -1.3168324826164703,
          2.540106200063176,
          4.113831196330832,
          0.575237363837491,
          -1.3011708703256466,
          -1.0986266434554075,
          -1.2060047467243862,
          -1.306485328834273,
          -1.3734022400474506,
          0.38959343783959,
          -1.0545984978027185,
          -1.422635085495784,
          -1.3686542308406002,
          -1.41556860286285,
          -1.2699689592427397,
          -0.538947781930321,
          -0.4921574978404987,
          -0.5844371392709488,
          -0.3500950225872962,
          0.028565830719142545,
          -1.1616149316121565,
          0.2764618382294406,
          3.1417740443842628,
          -1.3362993728187198,
          -0.4990023139517542,
          0.5277957557275235,
          -1.3023741384804766,
          1.1790364037554781,
          -1.3471900242847572,
          4.165574649587748,
          4.392871747797573,
          0.09017124625130214,
          -1.5928305440380797,
          0.6033581218861125,
          -0.5896894303509393,
          3.01790887744207,
          -1.311879702332066,
          -0.5695628484344065,
          3.0376458697318167,
          -1.276188316374675,
          -0.3952414712459686,
          -1.3995332533396587,
          -0.6183771382287696,
          -1.461356159915845,
          -0.8257931216326255
         ],
         "y": [
          0.736745815756332,
          -0.6126916878569388,
          -0.0517009060371812,
          -1.2600667252694837,
          1.0211148553155154,
          2.1359582765673286,
          -0.6005385513710356,
          1.036241614090624,
          -0.2131060221195114,
          2.1131602199972894,
          -0.723667645395075,
          0.44456726727727497,
          1.1962513155365664,
          2.6100487033260418,
          -2.3541680235583513,
          -0.16973031027713514,
          -1.0179572451843926,
          -1.70990253299164,
          -2.0839454681022658,
          1.6229285109207479,
          1.1630098714796449,
          1.1371298160627092,
          -0.4721770235600064,
          -0.45952918166745976,
          -0.34680705843857473,
          -2.643881943800425,
          1.3560544658987632,
          -1.6243432632796448,
          -0.49197949807391417,
          0.6350641305826584,
          -2.685786447900807,
          3.585289378817641,
          -1.2070624644420254,
          -0.8834875082327186,
          -2.961350067084504,
          -0.7265145132853287,
          2.257874765802747,
          0.7622348523298199,
          -0.5043463403480037,
          -1.499135087162167,
          0.9366097102101419,
          -1.224361362010926,
          -2.0723544192788452,
          -1.3089927134380208,
          -1.1346455472234314,
          2.564946506755909,
          -0.9133516253562156,
          -1.2199520350838842,
          -0.17386189181093356,
          1.989547803804972,
          0.5626840373497899,
          2.059571877224047,
          0.708856722544729,
          -1.9206284122381614,
          -1.8320530285695957,
          -1.4840175158189137,
          -0.8026826757829035,
          -2.1742979298834877,
          -0.5087175704062268
         ]
        },
        {
         "mode": "markers",
         "name": "original",
         "type": "scatter",
         "x": [
          -1.2988242949573718,
          2.8392924985036094,
          0.370693882006508,
          3.03820576314433,
          -0.6701137774328205,
          -0.46319534612889934,
          -0.44552547809706333,
          -0.6766145208251148,
          3.797995105274323,
          3.098396719242472,
          -0.912025247716437,
          -0.3186537901092179,
          -1.4232917122020399,
          -1.5432520618864254,
          2.140593892016799,
          -1.325679219334521,
          -1.33629937281872,
          0.02978628129080454,
          -1.0655300311275366,
          3.93252381048817,
          -1.0338761257294367,
          -0.43211266093452105,
          -0.6194982046582856,
          0.7287492486478364,
          0.023282381512336595,
          -0.23954644162391234,
          4.0604533465968276,
          -1.171410694207411,
          0.09017124625130206,
          -0.9329603214329637,
          -0.5117612309171177,
          -0.07623797790725576,
          -0.9272212127194176,
          -0.7864509986776984,
          4.299609520217984,
          -1.4013912515174898,
          0.3399482744598391,
          -0.5174860428879265,
          -1.0930867506307298,
          0.20726611390559335,
          -0.14115715778150292,
          0.08912717989127547,
          4.081976238949806,
          -1.4507142161177522,
          3.8866118339223137,
          -0.3456755429075669,
          -1.3801084777210337,
          -1.4761099903896473,
          -0.6492423954718817,
          -1.422635085495784,
          0.1602509629294424,
          -0.2552587603503931,
          -1.349808078219003,
          -1.4710182739891262,
          0.14757605330336404,
          -1.0974262100809893,
          -1.2431852376237544,
          -0.5264970012617972,
          -0.9885656099103488
         ],
         "y": [
          -2.3392565969702765,
          -1.8694022754189157,
          -1.3945031529704623,
          -0.21703287398877613,
          -0.09422334833869488,
          0.2186602743461591,
          -1.112448594293942,
          0.5357506576236315,
          -1.6253073675335188,
          2.231846647269528,
          2.1812407629937813,
          2.6661464669737187,
          -2.5572069574642087,
          1.1530036465194342,
          1.6477706418656768,
          -2.452372950492314,
          0.7622348523298198,
          3.1693661986366184,
          2.522176548806842,
          0.40214745923534934,
          -2.3347343979538007,
          2.8997834663855975,
          -1.267956700578214,
          3.1850698601819087,
          -1.4371934116603227,
          0.7091740383411549,
          -0.21555400345180148,
          -1.3539441581463019,
          2.5649465067559087,
          2.393300706881998,
          1.0208444007172945,
          -1.7094915739034207,
          -1.610414116232259,
          1.493844232547292,
          -1.113747372023645,
          1.3221351667180574,
          -1.3792260418353952,
          -0.281307877554687,
          0.6964564727718169,
          -1.3347846089375837,
          -1.6062243887348993,
          1.164036177709559,
          -0.020970597244643004,
          2.0269863144070044,
          0.14972613009175847,
          -1.3790494244201459,
          0.9536675086308842,
          1.356223562499132,
          0.6571989502154271,
          -2.643881943800425,
          -1.9311173439629061,
          -0.28887095059942686,
          1.1911737555299573,
          -0.8541418430135773,
          0.996989767586142,
          2.610048703326042,
          -0.037533818930073015,
          3.0726569173372216,
          -0.054806380091230095
         ]
        }
       ],
       "layout": {
        "legend": {
         "title": {
          "text": ""
         }
        },
        "template": {
         "data": {
          "bar": [
           {
            "error_x": {
             "color": "#2a3f5f"
            },
            "error_y": {
             "color": "#2a3f5f"
            },
            "marker": {
             "line": {
              "color": "#E5ECF6",
              "width": 0.5
             },
             "pattern": {
              "fillmode": "overlay",
              "size": 10,
              "solidity": 0.2
             }
            },
            "type": "bar"
           }
          ],
          "barpolar": [
           {
            "marker": {
             "line": {
              "color": "#E5ECF6",
              "width": 0.5
             },
             "pattern": {
              "fillmode": "overlay",
              "size": 10,
              "solidity": 0.2
             }
            },
            "type": "barpolar"
           }
          ],
          "carpet": [
           {
            "aaxis": {
             "endlinecolor": "#2a3f5f",
             "gridcolor": "white",
             "linecolor": "white",
             "minorgridcolor": "white",
             "startlinecolor": "#2a3f5f"
            },
            "baxis": {
             "endlinecolor": "#2a3f5f",
             "gridcolor": "white",
             "linecolor": "white",
             "minorgridcolor": "white",
             "startlinecolor": "#2a3f5f"
            },
            "type": "carpet"
           }
          ],
          "choropleth": [
           {
            "colorbar": {
             "outlinewidth": 0,
             "ticks": ""
            },
            "type": "choropleth"
           }
          ],
          "contour": [
           {
            "colorbar": {
             "outlinewidth": 0,
             "ticks": ""
            },
            "colorscale": [
             [
              0,
              "#0d0887"
             ],
             [
              0.1111111111111111,
              "#46039f"
             ],
             [
              0.2222222222222222,
              "#7201a8"
             ],
             [
              0.3333333333333333,
              "#9c179e"
             ],
             [
              0.4444444444444444,
              "#bd3786"
             ],
             [
              0.5555555555555556,
              "#d8576b"
             ],
             [
              0.6666666666666666,
              "#ed7953"
             ],
             [
              0.7777777777777778,
              "#fb9f3a"
             ],
             [
              0.8888888888888888,
              "#fdca26"
             ],
             [
              1,
              "#f0f921"
             ]
            ],
            "type": "contour"
           }
          ],
          "contourcarpet": [
           {
            "colorbar": {
             "outlinewidth": 0,
             "ticks": ""
            },
            "type": "contourcarpet"
           }
          ],
          "heatmap": [
           {
            "colorbar": {
             "outlinewidth": 0,
             "ticks": ""
            },
            "colorscale": [
             [
              0,
              "#0d0887"
             ],
             [
              0.1111111111111111,
              "#46039f"
             ],
             [
              0.2222222222222222,
              "#7201a8"
             ],
             [
              0.3333333333333333,
              "#9c179e"
             ],
             [
              0.4444444444444444,
              "#bd3786"
             ],
             [
              0.5555555555555556,
              "#d8576b"
             ],
             [
              0.6666666666666666,
              "#ed7953"
             ],
             [
              0.7777777777777778,
              "#fb9f3a"
             ],
             [
              0.8888888888888888,
              "#fdca26"
             ],
             [
              1,
              "#f0f921"
             ]
            ],
            "type": "heatmap"
           }
          ],
          "heatmapgl": [
           {
            "colorbar": {
             "outlinewidth": 0,
             "ticks": ""
            },
            "colorscale": [
             [
              0,
              "#0d0887"
             ],
             [
              0.1111111111111111,
              "#46039f"
             ],
             [
              0.2222222222222222,
              "#7201a8"
             ],
             [
              0.3333333333333333,
              "#9c179e"
             ],
             [
              0.4444444444444444,
              "#bd3786"
             ],
             [
              0.5555555555555556,
              "#d8576b"
             ],
             [
              0.6666666666666666,
              "#ed7953"
             ],
             [
              0.7777777777777778,
              "#fb9f3a"
             ],
             [
              0.8888888888888888,
              "#fdca26"
             ],
             [
              1,
              "#f0f921"
             ]
            ],
            "type": "heatmapgl"
           }
          ],
          "histogram": [
           {
            "marker": {
             "pattern": {
              "fillmode": "overlay",
              "size": 10,
              "solidity": 0.2
             }
            },
            "type": "histogram"
           }
          ],
          "histogram2d": [
           {
            "colorbar": {
             "outlinewidth": 0,
             "ticks": ""
            },
            "colorscale": [
             [
              0,
              "#0d0887"
             ],
             [
              0.1111111111111111,
              "#46039f"
             ],
             [
              0.2222222222222222,
              "#7201a8"
             ],
             [
              0.3333333333333333,
              "#9c179e"
             ],
             [
              0.4444444444444444,
              "#bd3786"
             ],
             [
              0.5555555555555556,
              "#d8576b"
             ],
             [
              0.6666666666666666,
              "#ed7953"
             ],
             [
              0.7777777777777778,
              "#fb9f3a"
             ],
             [
              0.8888888888888888,
              "#fdca26"
             ],
             [
              1,
              "#f0f921"
             ]
            ],
            "type": "histogram2d"
           }
          ],
          "histogram2dcontour": [
           {
            "colorbar": {
             "outlinewidth": 0,
             "ticks": ""
            },
            "colorscale": [
             [
              0,
              "#0d0887"
             ],
             [
              0.1111111111111111,
              "#46039f"
             ],
             [
              0.2222222222222222,
              "#7201a8"
             ],
             [
              0.3333333333333333,
              "#9c179e"
             ],
             [
              0.4444444444444444,
              "#bd3786"
             ],
             [
              0.5555555555555556,
              "#d8576b"
             ],
             [
              0.6666666666666666,
              "#ed7953"
             ],
             [
              0.7777777777777778,
              "#fb9f3a"
             ],
             [
              0.8888888888888888,
              "#fdca26"
             ],
             [
              1,
              "#f0f921"
             ]
            ],
            "type": "histogram2dcontour"
           }
          ],
          "mesh3d": [
           {
            "colorbar": {
             "outlinewidth": 0,
             "ticks": ""
            },
            "type": "mesh3d"
           }
          ],
          "parcoords": [
           {
            "line": {
             "colorbar": {
              "outlinewidth": 0,
              "ticks": ""
             }
            },
            "type": "parcoords"
           }
          ],
          "pie": [
           {
            "automargin": true,
            "type": "pie"
           }
          ],
          "scatter": [
           {
            "fillpattern": {
             "fillmode": "overlay",
             "size": 10,
             "solidity": 0.2
            },
            "type": "scatter"
           }
          ],
          "scatter3d": [
           {
            "line": {
             "colorbar": {
              "outlinewidth": 0,
              "ticks": ""
             }
            },
            "marker": {
             "colorbar": {
              "outlinewidth": 0,
              "ticks": ""
             }
            },
            "type": "scatter3d"
           }
          ],
          "scattercarpet": [
           {
            "marker": {
             "colorbar": {
              "outlinewidth": 0,
              "ticks": ""
             }
            },
            "type": "scattercarpet"
           }
          ],
          "scattergeo": [
           {
            "marker": {
             "colorbar": {
              "outlinewidth": 0,
              "ticks": ""
             }
            },
            "type": "scattergeo"
           }
          ],
          "scattergl": [
           {
            "marker": {
             "colorbar": {
              "outlinewidth": 0,
              "ticks": ""
             }
            },
            "type": "scattergl"
           }
          ],
          "scattermapbox": [
           {
            "marker": {
             "colorbar": {
              "outlinewidth": 0,
              "ticks": ""
             }
            },
            "type": "scattermapbox"
           }
          ],
          "scatterpolar": [
           {
            "marker": {
             "colorbar": {
              "outlinewidth": 0,
              "ticks": ""
             }
            },
            "type": "scatterpolar"
           }
          ],
          "scatterpolargl": [
           {
            "marker": {
             "colorbar": {
              "outlinewidth": 0,
              "ticks": ""
             }
            },
            "type": "scatterpolargl"
           }
          ],
          "scatterternary": [
           {
            "marker": {
             "colorbar": {
              "outlinewidth": 0,
              "ticks": ""
             }
            },
            "type": "scatterternary"
           }
          ],
          "surface": [
           {
            "colorbar": {
             "outlinewidth": 0,
             "ticks": ""
            },
            "colorscale": [
             [
              0,
              "#0d0887"
             ],
             [
              0.1111111111111111,
              "#46039f"
             ],
             [
              0.2222222222222222,
              "#7201a8"
             ],
             [
              0.3333333333333333,
              "#9c179e"
             ],
             [
              0.4444444444444444,
              "#bd3786"
             ],
             [
              0.5555555555555556,
              "#d8576b"
             ],
             [
              0.6666666666666666,
              "#ed7953"
             ],
             [
              0.7777777777777778,
              "#fb9f3a"
             ],
             [
              0.8888888888888888,
              "#fdca26"
             ],
             [
              1,
              "#f0f921"
             ]
            ],
            "type": "surface"
           }
          ],
          "table": [
           {
            "cells": {
             "fill": {
              "color": "#EBF0F8"
             },
             "line": {
              "color": "white"
             }
            },
            "header": {
             "fill": {
              "color": "#C8D4E3"
             },
             "line": {
              "color": "white"
             }
            },
            "type": "table"
           }
          ]
         },
         "layout": {
          "annotationdefaults": {
           "arrowcolor": "#2a3f5f",
           "arrowhead": 0,
           "arrowwidth": 1
          },
          "autotypenumbers": "strict",
          "coloraxis": {
           "colorbar": {
            "outlinewidth": 0,
            "ticks": ""
           }
          },
          "colorscale": {
           "diverging": [
            [
             0,
             "#8e0152"
            ],
            [
             0.1,
             "#c51b7d"
            ],
            [
             0.2,
             "#de77ae"
            ],
            [
             0.3,
             "#f1b6da"
            ],
            [
             0.4,
             "#fde0ef"
            ],
            [
             0.5,
             "#f7f7f7"
            ],
            [
             0.6,
             "#e6f5d0"
            ],
            [
             0.7,
             "#b8e186"
            ],
            [
             0.8,
             "#7fbc41"
            ],
            [
             0.9,
             "#4d9221"
            ],
            [
             1,
             "#276419"
            ]
           ],
           "sequential": [
            [
             0,
             "#0d0887"
            ],
            [
             0.1111111111111111,
             "#46039f"
            ],
            [
             0.2222222222222222,
             "#7201a8"
            ],
            [
             0.3333333333333333,
             "#9c179e"
            ],
            [
             0.4444444444444444,
             "#bd3786"
            ],
            [
             0.5555555555555556,
             "#d8576b"
            ],
            [
             0.6666666666666666,
             "#ed7953"
            ],
            [
             0.7777777777777778,
             "#fb9f3a"
            ],
            [
             0.8888888888888888,
             "#fdca26"
            ],
            [
             1,
             "#f0f921"
            ]
           ],
           "sequentialminus": [
            [
             0,
             "#0d0887"
            ],
            [
             0.1111111111111111,
             "#46039f"
            ],
            [
             0.2222222222222222,
             "#7201a8"
            ],
            [
             0.3333333333333333,
             "#9c179e"
            ],
            [
             0.4444444444444444,
             "#bd3786"
            ],
            [
             0.5555555555555556,
             "#d8576b"
            ],
            [
             0.6666666666666666,
             "#ed7953"
            ],
            [
             0.7777777777777778,
             "#fb9f3a"
            ],
            [
             0.8888888888888888,
             "#fdca26"
            ],
            [
             1,
             "#f0f921"
            ]
           ]
          },
          "colorway": [
           "#636efa",
           "#EF553B",
           "#00cc96",
           "#ab63fa",
           "#FFA15A",
           "#19d3f3",
           "#FF6692",
           "#B6E880",
           "#FF97FF",
           "#FECB52"
          ],
          "font": {
           "color": "#2a3f5f"
          },
          "geo": {
           "bgcolor": "white",
           "lakecolor": "white",
           "landcolor": "#E5ECF6",
           "showlakes": true,
           "showland": true,
           "subunitcolor": "white"
          },
          "hoverlabel": {
           "align": "left"
          },
          "hovermode": "closest",
          "mapbox": {
           "style": "light"
          },
          "paper_bgcolor": "white",
          "plot_bgcolor": "#E5ECF6",
          "polar": {
           "angularaxis": {
            "gridcolor": "white",
            "linecolor": "white",
            "ticks": ""
           },
           "bgcolor": "#E5ECF6",
           "radialaxis": {
            "gridcolor": "white",
            "linecolor": "white",
            "ticks": ""
           }
          },
          "scene": {
           "xaxis": {
            "backgroundcolor": "#E5ECF6",
            "gridcolor": "white",
            "gridwidth": 2,
            "linecolor": "white",
            "showbackground": true,
            "ticks": "",
            "zerolinecolor": "white"
           },
           "yaxis": {
            "backgroundcolor": "#E5ECF6",
            "gridcolor": "white",
            "gridwidth": 2,
            "linecolor": "white",
            "showbackground": true,
            "ticks": "",
            "zerolinecolor": "white"
           },
           "zaxis": {
            "backgroundcolor": "#E5ECF6",
            "gridcolor": "white",
            "gridwidth": 2,
            "linecolor": "white",
            "showbackground": true,
            "ticks": "",
            "zerolinecolor": "white"
           }
          },
          "shapedefaults": {
           "line": {
            "color": "#2a3f5f"
           }
          },
          "ternary": {
           "aaxis": {
            "gridcolor": "white",
            "linecolor": "white",
            "ticks": ""
           },
           "baxis": {
            "gridcolor": "white",
            "linecolor": "white",
            "ticks": ""
           },
           "bgcolor": "#E5ECF6",
           "caxis": {
            "gridcolor": "white",
            "linecolor": "white",
            "ticks": ""
           }
          },
          "title": {
           "x": 0.05
          },
          "xaxis": {
           "automargin": true,
           "gridcolor": "white",
           "linecolor": "white",
           "ticks": "",
           "title": {
            "standoff": 15
           },
           "zerolinecolor": "white",
           "zerolinewidth": 2
          },
          "yaxis": {
           "automargin": true,
           "gridcolor": "white",
           "linecolor": "white",
           "ticks": "",
           "title": {
            "standoff": 15
           },
           "zerolinecolor": "white",
           "zerolinewidth": 2
          }
         }
        },
        "title": {
         "text": "Generated vs Original"
        },
        "xaxis": {
         "title": {
          "text": "PC 1"
         }
        },
        "yaxis": {
         "title": {
          "text": "PC 2"
         }
        }
       }
      }
     },
     "metadata": {},
     "output_type": "display_data"
    }
   ],
   "source": [
    "import plotly.express as px\n",
    "import plotly.graph_objects as go\n",
    "from matplotlib import pyplot as plt\n",
    "\n",
    "\n",
    "# plt.figure(figsize=(12, 9))\n",
    "# plt.scatter(x[Vlen:, 0], x[Vlen:, 1], c='w', edgecolors='k', label='original')\n",
    "# plt.scatter(x[:Vlen, 0], x[:Vlen, 1], marker='+', label='generated')\n",
    "# plt.xlabel('PC 1')\n",
    "# plt.ylabel('PC 2')\n",
    "# plt.legend();\n",
    "\n",
    "# scatter plot with plotly\n",
    "fig = go.Figure()\n",
    "fig.add_trace(go.Scatter(x=x[:Vlen, 0], y=x[:Vlen, 1], mode='markers', name='generated'))\n",
    "fig.add_trace(go.Scatter(x=x[Vlen:, 0], y=x[Vlen:, 1], mode='markers', name='original'))\n",
    "fig.update_layout(\n",
    "    title=\"Generated vs Original\",\n",
    "    xaxis_title=\"PC 1\",\n",
    "    yaxis_title=\"PC 2\",\n",
    "    legend_title=\"\",\n",
    ")\n",
    "fig.show()\n"
   ]
  }
 ],
 "metadata": {
  "kernelspec": {
   "display_name": "Python 3.10.8 ('drug_design')",
   "language": "python",
   "name": "python3"
  },
  "language_info": {
   "codemirror_mode": {
    "name": "ipython",
    "version": 3
   },
   "file_extension": ".py",
   "mimetype": "text/x-python",
   "name": "python",
   "nbconvert_exporter": "python",
   "pygments_lexer": "ipython3",
   "version": "3.10.8"
  },
  "orig_nbformat": 4,
  "vscode": {
   "interpreter": {
    "hash": "df575d9b3e9895d2442e3df5b270c02c77977dbbc9d135026610c4079aa2b2a6"
   }
  }
 },
 "nbformat": 4,
 "nbformat_minor": 2
}
